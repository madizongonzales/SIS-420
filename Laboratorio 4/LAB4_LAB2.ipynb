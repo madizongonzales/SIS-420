{
  "nbformat": 4,
  "nbformat_minor": 0,
  "metadata": {
    "colab": {
      "provenance": [],
      "gpuType": "T4"
    },
    "kernelspec": {
      "name": "python3",
      "display_name": "Python 3"
    },
    "language_info": {
      "name": "python"
    },
    "accelerator": "GPU"
  },
  "cells": [
    {
      "cell_type": "markdown",
      "source": [
        "#Importar librerías"
      ],
      "metadata": {
        "id": "iHgBm1SHbx_X"
      }
    },
    {
      "cell_type": "code",
      "execution_count": 1,
      "metadata": {
        "id": "MhWPrWbOdjh2"
      },
      "outputs": [],
      "source": [
        "# se utiliza para el manejo de rutas y directorios.\n",
        "import os\n",
        "\n",
        "# Calculo cientifico y vectorial para python\n",
        "import numpy as np\n",
        "\n",
        "# Leer y escribir fácilmente ficheros en formato CSV\n",
        "import pandas as pd\n",
        "\n",
        "# Para hacer tablas\n",
        "from tabulate import tabulate\n",
        "\n",
        "# Librerias para graficación\n",
        "from matplotlib import pyplot\n",
        "from mpl_toolkits.mplot3d import Axes3D  #Para graficar superficies 3D\n",
        "\n",
        "# Para separa el 20% y 80%\n",
        "from sklearn.model_selection import train_test_split\n",
        "\n",
        "# Le dice a matplotlib que incruste gráficos en el cuaderno\n",
        "%matplotlib inline"
      ]
    },
    {
      "cell_type": "code",
      "source": [
        "from google.colab import drive\n",
        "drive.mount(\"/content/gdrive\")"
      ],
      "metadata": {
        "colab": {
          "base_uri": "https://localhost:8080/"
        },
        "id": "g08mdzo_nSRW",
        "outputId": "9b21ae5a-af71-4ffe-8b6e-8e868ce76201"
      },
      "execution_count": 2,
      "outputs": [
        {
          "output_type": "stream",
          "name": "stdout",
          "text": [
            "Mounted at /content/gdrive\n"
          ]
        }
      ]
    },
    {
      "cell_type": "markdown",
      "source": [
        "#Datos del dataset"
      ],
      "metadata": {
        "id": "y-4KkwOviuxd"
      }
    },
    {
      "cell_type": "code",
      "source": [
        "from google.colab import drive\n",
        "drive.mount('/content/drive')"
      ],
      "metadata": {
        "colab": {
          "base_uri": "https://localhost:8080/"
        },
        "id": "iLAdaCStfseJ",
        "outputId": "6975fda2-b44c-47cb-ed41-1ee1db3714f6"
      },
      "execution_count": 3,
      "outputs": [
        {
          "output_type": "stream",
          "name": "stdout",
          "text": [
            "Mounted at /content/drive\n"
          ]
        }
      ]
    },
    {
      "cell_type": "code",
      "source": [
        "# Libreria pandas para leer el dataset.\n",
        "datos = pd.read_csv('/content/drive/MyDrive/SIS420/maddy/full_data_flightdelay.csv')"
      ],
      "metadata": {
        "id": "tvftF0oahyjk"
      },
      "execution_count": 5,
      "outputs": []
    },
    {
      "cell_type": "code",
      "source": [
        "# Limpiando el dataset\n",
        "dataset=datos.drop(columns=['CARRIER_NAME', 'PREVIOUS_AIRPORT','LONGITUDE','DEPARTING_AIRPORT','AIRPORT_FLIGHTS_MONTH','DEP_TIME_BLK','PRCP',\t'SNOW',\t'SNWD',\t'TMAX',\t'AWND','AVG_MONTHLY_PASS_AIRPORT','AVG_MONTHLY_PASS_AIRLINE','AIRLINE_FLIGHTS_MONTH'])"
      ],
      "metadata": {
        "id": "pm8XaCJStYOg"
      },
      "execution_count": 6,
      "outputs": []
    },
    {
      "cell_type": "code",
      "source": [
        "# Muestra el dataset limpio\n",
        "dataset"
      ],
      "metadata": {
        "colab": {
          "base_uri": "https://localhost:8080/",
          "height": 444
        },
        "id": "Wgz_UPynwGTN",
        "outputId": "8242a95d-08c1-4e03-9d81-ba3d68daf97f"
      },
      "execution_count": 7,
      "outputs": [
        {
          "output_type": "execute_result",
          "data": {
            "text/plain": [
              "         MONTH  DAY_OF_WEEK  DEP_DEL15  DISTANCE_GROUP  SEGMENT_NUMBER  \\\n",
              "0            1            7          0               2               1   \n",
              "1            1            7          0               7               1   \n",
              "2            1            7          0               7               1   \n",
              "3            1            7          0               9               1   \n",
              "4            1            7          0               7               1   \n",
              "...        ...          ...        ...             ...             ...   \n",
              "6489057     12            7          0               1              11   \n",
              "6489058     12            7          0               1              11   \n",
              "6489059     12            7          0               1              11   \n",
              "6489060     12            7          0               1              12   \n",
              "6489061     12            7          1               1              12   \n",
              "\n",
              "         CONCURRENT_FLIGHTS  NUMBER_OF_SEATS  AIRLINE_AIRPORT_FLIGHTS_MONTH  \\\n",
              "0                        25              143                           5873   \n",
              "1                        29              191                           1174   \n",
              "2                        27              199                           1174   \n",
              "3                        27              180                           1174   \n",
              "4                        10              182                           1257   \n",
              "...                     ...              ...                            ...   \n",
              "6489057                   3              123                            757   \n",
              "6489058                   2              123                            757   \n",
              "6489059                   2              123                            757   \n",
              "6489060                   3              123                            757   \n",
              "6489061                   3              123                            757   \n",
              "\n",
              "         FLT_ATTENDANTS_PER_PASS  GROUND_SERV_PER_PASS  PLANE_AGE  LATITUDE  \n",
              "0                       0.000062              0.000099          8    36.080  \n",
              "1                       0.000144              0.000149          3    36.080  \n",
              "2                       0.000144              0.000149         18    36.080  \n",
              "3                       0.000144              0.000149          2    36.080  \n",
              "4                       0.000009              0.000125          1    36.080  \n",
              "...                          ...                   ...        ...       ...  \n",
              "6489057                 0.000120              0.000198         18    21.979  \n",
              "6489058                 0.000120              0.000198         16    21.979  \n",
              "6489059                 0.000120              0.000198         18    21.979  \n",
              "6489060                 0.000120              0.000198         18    21.979  \n",
              "6489061                 0.000120              0.000198         15    21.979  \n",
              "\n",
              "[6489062 rows x 12 columns]"
            ],
            "text/html": [
              "\n",
              "  <div id=\"df-79636e92-4fd6-4307-b76a-50d07a799787\" class=\"colab-df-container\">\n",
              "    <div>\n",
              "<style scoped>\n",
              "    .dataframe tbody tr th:only-of-type {\n",
              "        vertical-align: middle;\n",
              "    }\n",
              "\n",
              "    .dataframe tbody tr th {\n",
              "        vertical-align: top;\n",
              "    }\n",
              "\n",
              "    .dataframe thead th {\n",
              "        text-align: right;\n",
              "    }\n",
              "</style>\n",
              "<table border=\"1\" class=\"dataframe\">\n",
              "  <thead>\n",
              "    <tr style=\"text-align: right;\">\n",
              "      <th></th>\n",
              "      <th>MONTH</th>\n",
              "      <th>DAY_OF_WEEK</th>\n",
              "      <th>DEP_DEL15</th>\n",
              "      <th>DISTANCE_GROUP</th>\n",
              "      <th>SEGMENT_NUMBER</th>\n",
              "      <th>CONCURRENT_FLIGHTS</th>\n",
              "      <th>NUMBER_OF_SEATS</th>\n",
              "      <th>AIRLINE_AIRPORT_FLIGHTS_MONTH</th>\n",
              "      <th>FLT_ATTENDANTS_PER_PASS</th>\n",
              "      <th>GROUND_SERV_PER_PASS</th>\n",
              "      <th>PLANE_AGE</th>\n",
              "      <th>LATITUDE</th>\n",
              "    </tr>\n",
              "  </thead>\n",
              "  <tbody>\n",
              "    <tr>\n",
              "      <th>0</th>\n",
              "      <td>1</td>\n",
              "      <td>7</td>\n",
              "      <td>0</td>\n",
              "      <td>2</td>\n",
              "      <td>1</td>\n",
              "      <td>25</td>\n",
              "      <td>143</td>\n",
              "      <td>5873</td>\n",
              "      <td>0.000062</td>\n",
              "      <td>0.000099</td>\n",
              "      <td>8</td>\n",
              "      <td>36.080</td>\n",
              "    </tr>\n",
              "    <tr>\n",
              "      <th>1</th>\n",
              "      <td>1</td>\n",
              "      <td>7</td>\n",
              "      <td>0</td>\n",
              "      <td>7</td>\n",
              "      <td>1</td>\n",
              "      <td>29</td>\n",
              "      <td>191</td>\n",
              "      <td>1174</td>\n",
              "      <td>0.000144</td>\n",
              "      <td>0.000149</td>\n",
              "      <td>3</td>\n",
              "      <td>36.080</td>\n",
              "    </tr>\n",
              "    <tr>\n",
              "      <th>2</th>\n",
              "      <td>1</td>\n",
              "      <td>7</td>\n",
              "      <td>0</td>\n",
              "      <td>7</td>\n",
              "      <td>1</td>\n",
              "      <td>27</td>\n",
              "      <td>199</td>\n",
              "      <td>1174</td>\n",
              "      <td>0.000144</td>\n",
              "      <td>0.000149</td>\n",
              "      <td>18</td>\n",
              "      <td>36.080</td>\n",
              "    </tr>\n",
              "    <tr>\n",
              "      <th>3</th>\n",
              "      <td>1</td>\n",
              "      <td>7</td>\n",
              "      <td>0</td>\n",
              "      <td>9</td>\n",
              "      <td>1</td>\n",
              "      <td>27</td>\n",
              "      <td>180</td>\n",
              "      <td>1174</td>\n",
              "      <td>0.000144</td>\n",
              "      <td>0.000149</td>\n",
              "      <td>2</td>\n",
              "      <td>36.080</td>\n",
              "    </tr>\n",
              "    <tr>\n",
              "      <th>4</th>\n",
              "      <td>1</td>\n",
              "      <td>7</td>\n",
              "      <td>0</td>\n",
              "      <td>7</td>\n",
              "      <td>1</td>\n",
              "      <td>10</td>\n",
              "      <td>182</td>\n",
              "      <td>1257</td>\n",
              "      <td>0.000009</td>\n",
              "      <td>0.000125</td>\n",
              "      <td>1</td>\n",
              "      <td>36.080</td>\n",
              "    </tr>\n",
              "    <tr>\n",
              "      <th>...</th>\n",
              "      <td>...</td>\n",
              "      <td>...</td>\n",
              "      <td>...</td>\n",
              "      <td>...</td>\n",
              "      <td>...</td>\n",
              "      <td>...</td>\n",
              "      <td>...</td>\n",
              "      <td>...</td>\n",
              "      <td>...</td>\n",
              "      <td>...</td>\n",
              "      <td>...</td>\n",
              "      <td>...</td>\n",
              "    </tr>\n",
              "    <tr>\n",
              "      <th>6489057</th>\n",
              "      <td>12</td>\n",
              "      <td>7</td>\n",
              "      <td>0</td>\n",
              "      <td>1</td>\n",
              "      <td>11</td>\n",
              "      <td>3</td>\n",
              "      <td>123</td>\n",
              "      <td>757</td>\n",
              "      <td>0.000120</td>\n",
              "      <td>0.000198</td>\n",
              "      <td>18</td>\n",
              "      <td>21.979</td>\n",
              "    </tr>\n",
              "    <tr>\n",
              "      <th>6489058</th>\n",
              "      <td>12</td>\n",
              "      <td>7</td>\n",
              "      <td>0</td>\n",
              "      <td>1</td>\n",
              "      <td>11</td>\n",
              "      <td>2</td>\n",
              "      <td>123</td>\n",
              "      <td>757</td>\n",
              "      <td>0.000120</td>\n",
              "      <td>0.000198</td>\n",
              "      <td>16</td>\n",
              "      <td>21.979</td>\n",
              "    </tr>\n",
              "    <tr>\n",
              "      <th>6489059</th>\n",
              "      <td>12</td>\n",
              "      <td>7</td>\n",
              "      <td>0</td>\n",
              "      <td>1</td>\n",
              "      <td>11</td>\n",
              "      <td>2</td>\n",
              "      <td>123</td>\n",
              "      <td>757</td>\n",
              "      <td>0.000120</td>\n",
              "      <td>0.000198</td>\n",
              "      <td>18</td>\n",
              "      <td>21.979</td>\n",
              "    </tr>\n",
              "    <tr>\n",
              "      <th>6489060</th>\n",
              "      <td>12</td>\n",
              "      <td>7</td>\n",
              "      <td>0</td>\n",
              "      <td>1</td>\n",
              "      <td>12</td>\n",
              "      <td>3</td>\n",
              "      <td>123</td>\n",
              "      <td>757</td>\n",
              "      <td>0.000120</td>\n",
              "      <td>0.000198</td>\n",
              "      <td>18</td>\n",
              "      <td>21.979</td>\n",
              "    </tr>\n",
              "    <tr>\n",
              "      <th>6489061</th>\n",
              "      <td>12</td>\n",
              "      <td>7</td>\n",
              "      <td>1</td>\n",
              "      <td>1</td>\n",
              "      <td>12</td>\n",
              "      <td>3</td>\n",
              "      <td>123</td>\n",
              "      <td>757</td>\n",
              "      <td>0.000120</td>\n",
              "      <td>0.000198</td>\n",
              "      <td>15</td>\n",
              "      <td>21.979</td>\n",
              "    </tr>\n",
              "  </tbody>\n",
              "</table>\n",
              "<p>6489062 rows × 12 columns</p>\n",
              "</div>\n",
              "    <div class=\"colab-df-buttons\">\n",
              "\n",
              "  <div class=\"colab-df-container\">\n",
              "    <button class=\"colab-df-convert\" onclick=\"convertToInteractive('df-79636e92-4fd6-4307-b76a-50d07a799787')\"\n",
              "            title=\"Convert this dataframe to an interactive table.\"\n",
              "            style=\"display:none;\">\n",
              "\n",
              "  <svg xmlns=\"http://www.w3.org/2000/svg\" height=\"24px\" viewBox=\"0 -960 960 960\">\n",
              "    <path d=\"M120-120v-720h720v720H120Zm60-500h600v-160H180v160Zm220 220h160v-160H400v160Zm0 220h160v-160H400v160ZM180-400h160v-160H180v160Zm440 0h160v-160H620v160ZM180-180h160v-160H180v160Zm440 0h160v-160H620v160Z\"/>\n",
              "  </svg>\n",
              "    </button>\n",
              "\n",
              "  <style>\n",
              "    .colab-df-container {\n",
              "      display:flex;\n",
              "      gap: 12px;\n",
              "    }\n",
              "\n",
              "    .colab-df-convert {\n",
              "      background-color: #E8F0FE;\n",
              "      border: none;\n",
              "      border-radius: 50%;\n",
              "      cursor: pointer;\n",
              "      display: none;\n",
              "      fill: #1967D2;\n",
              "      height: 32px;\n",
              "      padding: 0 0 0 0;\n",
              "      width: 32px;\n",
              "    }\n",
              "\n",
              "    .colab-df-convert:hover {\n",
              "      background-color: #E2EBFA;\n",
              "      box-shadow: 0px 1px 2px rgba(60, 64, 67, 0.3), 0px 1px 3px 1px rgba(60, 64, 67, 0.15);\n",
              "      fill: #174EA6;\n",
              "    }\n",
              "\n",
              "    .colab-df-buttons div {\n",
              "      margin-bottom: 4px;\n",
              "    }\n",
              "\n",
              "    [theme=dark] .colab-df-convert {\n",
              "      background-color: #3B4455;\n",
              "      fill: #D2E3FC;\n",
              "    }\n",
              "\n",
              "    [theme=dark] .colab-df-convert:hover {\n",
              "      background-color: #434B5C;\n",
              "      box-shadow: 0px 1px 3px 1px rgba(0, 0, 0, 0.15);\n",
              "      filter: drop-shadow(0px 1px 2px rgba(0, 0, 0, 0.3));\n",
              "      fill: #FFFFFF;\n",
              "    }\n",
              "  </style>\n",
              "\n",
              "    <script>\n",
              "      const buttonEl =\n",
              "        document.querySelector('#df-79636e92-4fd6-4307-b76a-50d07a799787 button.colab-df-convert');\n",
              "      buttonEl.style.display =\n",
              "        google.colab.kernel.accessAllowed ? 'block' : 'none';\n",
              "\n",
              "      async function convertToInteractive(key) {\n",
              "        const element = document.querySelector('#df-79636e92-4fd6-4307-b76a-50d07a799787');\n",
              "        const dataTable =\n",
              "          await google.colab.kernel.invokeFunction('convertToInteractive',\n",
              "                                                    [key], {});\n",
              "        if (!dataTable) return;\n",
              "\n",
              "        const docLinkHtml = 'Like what you see? Visit the ' +\n",
              "          '<a target=\"_blank\" href=https://colab.research.google.com/notebooks/data_table.ipynb>data table notebook</a>'\n",
              "          + ' to learn more about interactive tables.';\n",
              "        element.innerHTML = '';\n",
              "        dataTable['output_type'] = 'display_data';\n",
              "        await google.colab.output.renderOutput(dataTable, element);\n",
              "        const docLink = document.createElement('div');\n",
              "        docLink.innerHTML = docLinkHtml;\n",
              "        element.appendChild(docLink);\n",
              "      }\n",
              "    </script>\n",
              "  </div>\n",
              "\n",
              "\n",
              "<div id=\"df-d9e88bbb-f041-465b-8924-ca30bffa1967\">\n",
              "  <button class=\"colab-df-quickchart\" onclick=\"quickchart('df-d9e88bbb-f041-465b-8924-ca30bffa1967')\"\n",
              "            title=\"Suggest charts\"\n",
              "            style=\"display:none;\">\n",
              "\n",
              "<svg xmlns=\"http://www.w3.org/2000/svg\" height=\"24px\"viewBox=\"0 0 24 24\"\n",
              "     width=\"24px\">\n",
              "    <g>\n",
              "        <path d=\"M19 3H5c-1.1 0-2 .9-2 2v14c0 1.1.9 2 2 2h14c1.1 0 2-.9 2-2V5c0-1.1-.9-2-2-2zM9 17H7v-7h2v7zm4 0h-2V7h2v10zm4 0h-2v-4h2v4z\"/>\n",
              "    </g>\n",
              "</svg>\n",
              "  </button>\n",
              "\n",
              "<style>\n",
              "  .colab-df-quickchart {\n",
              "      --bg-color: #E8F0FE;\n",
              "      --fill-color: #1967D2;\n",
              "      --hover-bg-color: #E2EBFA;\n",
              "      --hover-fill-color: #174EA6;\n",
              "      --disabled-fill-color: #AAA;\n",
              "      --disabled-bg-color: #DDD;\n",
              "  }\n",
              "\n",
              "  [theme=dark] .colab-df-quickchart {\n",
              "      --bg-color: #3B4455;\n",
              "      --fill-color: #D2E3FC;\n",
              "      --hover-bg-color: #434B5C;\n",
              "      --hover-fill-color: #FFFFFF;\n",
              "      --disabled-bg-color: #3B4455;\n",
              "      --disabled-fill-color: #666;\n",
              "  }\n",
              "\n",
              "  .colab-df-quickchart {\n",
              "    background-color: var(--bg-color);\n",
              "    border: none;\n",
              "    border-radius: 50%;\n",
              "    cursor: pointer;\n",
              "    display: none;\n",
              "    fill: var(--fill-color);\n",
              "    height: 32px;\n",
              "    padding: 0;\n",
              "    width: 32px;\n",
              "  }\n",
              "\n",
              "  .colab-df-quickchart:hover {\n",
              "    background-color: var(--hover-bg-color);\n",
              "    box-shadow: 0 1px 2px rgba(60, 64, 67, 0.3), 0 1px 3px 1px rgba(60, 64, 67, 0.15);\n",
              "    fill: var(--button-hover-fill-color);\n",
              "  }\n",
              "\n",
              "  .colab-df-quickchart-complete:disabled,\n",
              "  .colab-df-quickchart-complete:disabled:hover {\n",
              "    background-color: var(--disabled-bg-color);\n",
              "    fill: var(--disabled-fill-color);\n",
              "    box-shadow: none;\n",
              "  }\n",
              "\n",
              "  .colab-df-spinner {\n",
              "    border: 2px solid var(--fill-color);\n",
              "    border-color: transparent;\n",
              "    border-bottom-color: var(--fill-color);\n",
              "    animation:\n",
              "      spin 1s steps(1) infinite;\n",
              "  }\n",
              "\n",
              "  @keyframes spin {\n",
              "    0% {\n",
              "      border-color: transparent;\n",
              "      border-bottom-color: var(--fill-color);\n",
              "      border-left-color: var(--fill-color);\n",
              "    }\n",
              "    20% {\n",
              "      border-color: transparent;\n",
              "      border-left-color: var(--fill-color);\n",
              "      border-top-color: var(--fill-color);\n",
              "    }\n",
              "    30% {\n",
              "      border-color: transparent;\n",
              "      border-left-color: var(--fill-color);\n",
              "      border-top-color: var(--fill-color);\n",
              "      border-right-color: var(--fill-color);\n",
              "    }\n",
              "    40% {\n",
              "      border-color: transparent;\n",
              "      border-right-color: var(--fill-color);\n",
              "      border-top-color: var(--fill-color);\n",
              "    }\n",
              "    60% {\n",
              "      border-color: transparent;\n",
              "      border-right-color: var(--fill-color);\n",
              "    }\n",
              "    80% {\n",
              "      border-color: transparent;\n",
              "      border-right-color: var(--fill-color);\n",
              "      border-bottom-color: var(--fill-color);\n",
              "    }\n",
              "    90% {\n",
              "      border-color: transparent;\n",
              "      border-bottom-color: var(--fill-color);\n",
              "    }\n",
              "  }\n",
              "</style>\n",
              "\n",
              "  <script>\n",
              "    async function quickchart(key) {\n",
              "      const quickchartButtonEl =\n",
              "        document.querySelector('#' + key + ' button');\n",
              "      quickchartButtonEl.disabled = true;  // To prevent multiple clicks.\n",
              "      quickchartButtonEl.classList.add('colab-df-spinner');\n",
              "      try {\n",
              "        const charts = await google.colab.kernel.invokeFunction(\n",
              "            'suggestCharts', [key], {});\n",
              "      } catch (error) {\n",
              "        console.error('Error during call to suggestCharts:', error);\n",
              "      }\n",
              "      quickchartButtonEl.classList.remove('colab-df-spinner');\n",
              "      quickchartButtonEl.classList.add('colab-df-quickchart-complete');\n",
              "    }\n",
              "    (() => {\n",
              "      let quickchartButtonEl =\n",
              "        document.querySelector('#df-d9e88bbb-f041-465b-8924-ca30bffa1967 button');\n",
              "      quickchartButtonEl.style.display =\n",
              "        google.colab.kernel.accessAllowed ? 'block' : 'none';\n",
              "    })();\n",
              "  </script>\n",
              "</div>\n",
              "\n",
              "  <div id=\"id_e4efbe0a-11c5-4f3e-bd78-50cc34aafce4\">\n",
              "    <style>\n",
              "      .colab-df-generate {\n",
              "        background-color: #E8F0FE;\n",
              "        border: none;\n",
              "        border-radius: 50%;\n",
              "        cursor: pointer;\n",
              "        display: none;\n",
              "        fill: #1967D2;\n",
              "        height: 32px;\n",
              "        padding: 0 0 0 0;\n",
              "        width: 32px;\n",
              "      }\n",
              "\n",
              "      .colab-df-generate:hover {\n",
              "        background-color: #E2EBFA;\n",
              "        box-shadow: 0px 1px 2px rgba(60, 64, 67, 0.3), 0px 1px 3px 1px rgba(60, 64, 67, 0.15);\n",
              "        fill: #174EA6;\n",
              "      }\n",
              "\n",
              "      [theme=dark] .colab-df-generate {\n",
              "        background-color: #3B4455;\n",
              "        fill: #D2E3FC;\n",
              "      }\n",
              "\n",
              "      [theme=dark] .colab-df-generate:hover {\n",
              "        background-color: #434B5C;\n",
              "        box-shadow: 0px 1px 3px 1px rgba(0, 0, 0, 0.15);\n",
              "        filter: drop-shadow(0px 1px 2px rgba(0, 0, 0, 0.3));\n",
              "        fill: #FFFFFF;\n",
              "      }\n",
              "    </style>\n",
              "    <button class=\"colab-df-generate\" onclick=\"generateWithVariable('dataset')\"\n",
              "            title=\"Generate code using this dataframe.\"\n",
              "            style=\"display:none;\">\n",
              "\n",
              "  <svg xmlns=\"http://www.w3.org/2000/svg\" height=\"24px\"viewBox=\"0 0 24 24\"\n",
              "       width=\"24px\">\n",
              "    <path d=\"M7,19H8.4L18.45,9,17,7.55,7,17.6ZM5,21V16.75L18.45,3.32a2,2,0,0,1,2.83,0l1.4,1.43a1.91,1.91,0,0,1,.58,1.4,1.91,1.91,0,0,1-.58,1.4L9.25,21ZM18.45,9,17,7.55Zm-12,3A5.31,5.31,0,0,0,4.9,8.1,5.31,5.31,0,0,0,1,6.5,5.31,5.31,0,0,0,4.9,4.9,5.31,5.31,0,0,0,6.5,1,5.31,5.31,0,0,0,8.1,4.9,5.31,5.31,0,0,0,12,6.5,5.46,5.46,0,0,0,6.5,12Z\"/>\n",
              "  </svg>\n",
              "    </button>\n",
              "    <script>\n",
              "      (() => {\n",
              "      const buttonEl =\n",
              "        document.querySelector('#id_e4efbe0a-11c5-4f3e-bd78-50cc34aafce4 button.colab-df-generate');\n",
              "      buttonEl.style.display =\n",
              "        google.colab.kernel.accessAllowed ? 'block' : 'none';\n",
              "\n",
              "      buttonEl.onclick = () => {\n",
              "        google.colab.notebook.generateWithVariable('dataset');\n",
              "      }\n",
              "      })();\n",
              "    </script>\n",
              "  </div>\n",
              "\n",
              "    </div>\n",
              "  </div>\n"
            ],
            "application/vnd.google.colaboratory.intrinsic+json": {
              "type": "dataframe",
              "variable_name": "dataset"
            }
          },
          "metadata": {},
          "execution_count": 7
        }
      ]
    },
    {
      "cell_type": "markdown",
      "source": [
        "#Datos separados"
      ],
      "metadata": {
        "id": "BkjrWn7miyQh"
      }
    },
    {
      "cell_type": "code",
      "source": [
        "# Datos separados, el 80% y 20%\n",
        "train_dataset, test_dataset = train_test_split(dataset, test_size=0.2, random_state=42)\n",
        "\n",
        "# Separamos en 'X_test' los datos, pero sin la y que seria 'DEP_DEL15'\n",
        "X_test = test_dataset.drop(['DEP_DEL15'], axis=1).values\n",
        "\n",
        "# Separamos en 'y_test' los datos de la columna de 'DEP_DEL15'\n",
        "y_test = test_dataset['DEP_DEL15'].values\n",
        "\n",
        "# Tomamos train_dataset, seleccionamos las columnas para 'X_train' y la columna 'DEP_DEL15' para 'y_train'\n",
        "X_train = train_dataset.drop(['DEP_DEL15'], axis=1).values\n",
        "y_train = train_dataset['DEP_DEL15'].values\n",
        "m_train = len(y_train)\n",
        "\n",
        "\n",
        "#Imprimimos algunos datos:\n",
        "# Imprimir todos las X de datos solo 10\n",
        "print('{:>8s}{:>8s}{:>10s}{:>10s}{:>8s}{:>8s}{:>8s}{:>8s}{:>6s}{:>10s}{:>10s}{:>10s}'.format(\n",
        "    'X[:,0]', 'X[:, 1]', 'X[:, 2]', 'X[:, 3]', 'X[:, 4]', 'X[:, 5]', 'X[:, 6]', 'X[:, 7]', 'X[:, 8]', 'X[:, 9]', 'X[:, 10]', 'Y'\n",
        "))\n",
        "print('-' * 110)\n",
        "\n",
        "for i in range(10):\n",
        "    print('{:8.0f}{:8.0f}{:10.0f}{:10.0f}{:8.0f}{:8.0f}{:8.0f}{:8.0f}{:8.0f}{:10.0f}{:8.0f}{:12.0f}'.format(\n",
        "        X_train[i, 0], X_train[i, 1], X_train[i, 2], X_train[i, 3], X_train[i, 4], X_train[i, 5], X_train[i, 6], X_train[i, 7], X_train[i, 8], X_train[i, 9], X_train[i, 10], y_train[i]\n",
        "    ))\n",
        "\n",
        "\n",
        "# Muestra la cantidad de ejemplos\n",
        "print(\" \")\n",
        "print('El 80% de entrenamiento son la cantidad de: {:.0f} de ejemplos'.format( len(train_dataset)))\n",
        "print('El 20% para pruebas son la cantidad de: {:.0f} de ejemplos'.format( len(test_dataset)))"
      ],
      "metadata": {
        "colab": {
          "base_uri": "https://localhost:8080/"
        },
        "id": "D59oKQJYh04D",
        "outputId": "064675bd-0c28-43c6-80e2-5d1890525f72"
      },
      "execution_count": 8,
      "outputs": [
        {
          "output_type": "stream",
          "name": "stdout",
          "text": [
            "  X[:,0] X[:, 1]   X[:, 2]   X[:, 3] X[:, 4] X[:, 5] X[:, 6] X[:, 7]X[:, 8]   X[:, 9]  X[:, 10]         Y\n",
            "--------------------------------------------------------------------------------------------------------------\n",
            "      11       3         2         6      33      69    2542       0       0        15      41           0\n",
            "      12       5         4         4      81     128   12551       0       0         4      33           0\n",
            "       4       3         1         2      56      90    7448       0       0         5      35           0\n",
            "       3       6         4         5       2     129     237       0       0        11      34           0\n",
            "       9       4         2         4      62     150    8345       0       0        19      35           0\n",
            "       5       5         7         2      25     178     454       0       0         5      42           0\n",
            "       4       5         3         2      41      50    5184       0       0        14      42           0\n",
            "      12       6         4         3      30      50    2998       0       0         2      34           1\n",
            "      11       2         2         2      74     149   19506       0       0        29      34           0\n",
            "      12       7         2         7       4     143    1699       0       0        21      34           1\n",
            " \n",
            "El 80% de entrenamiento son la cantidad de: 5191249 de ejemplos\n",
            "El 20% para pruebas son la cantidad de: 1297813 de ejemplos\n"
          ]
        }
      ]
    },
    {
      "cell_type": "markdown",
      "source": [
        "#Normalización de características"
      ],
      "metadata": {
        "id": "he3Mg5x9i388"
      }
    },
    {
      "cell_type": "code",
      "source": [
        "def  featureNormalize(X):\n",
        "    X_norm = X.copy()\n",
        "\n",
        "    # Array de ceros con una longitud igual al número de columnas en el array X.\n",
        "    # La variable mu y sigma se inicializa como este array de ceros.\n",
        "    mu = np.zeros(X.shape[1])\n",
        "    sigma = np.zeros(X.shape[1])\n",
        "\n",
        "    # Promedio de cada columna de X\n",
        "    mu = np.mean(X, axis = 0)\n",
        "    sigma = np.std(X, axis = 0)\n",
        "\n",
        "    sigma[sigma == 0] = 1\n",
        "\n",
        "    # Formula para normalizar datos\n",
        "    X_norm = (X - mu) / sigma\n",
        "\n",
        "    return X_norm, mu, sigma\n"
      ],
      "metadata": {
        "id": "PTNhz0nTh8K6"
      },
      "execution_count": 9,
      "outputs": []
    },
    {
      "cell_type": "code",
      "source": [
        "X_norm, mu, sigma= featureNormalize(X_train)\n",
        "\n",
        "# Imprime todos las X_norm de datos solo 10\n",
        "print('{:>8s}{:>8s}{:>10s}{:>10s}{:>8s}{:>8s}{:>8s}{:>8s}{:>6s}{:>10s}{:>10s}'.format(\n",
        "    'X[:,0]', 'X[:, 1]', 'X[:, 2]', 'X[:, 3]', 'X[:, 4]', 'X[:, 5]', 'X[:, 6]', 'X[:, 7]', 'X[:, 8]', 'X[:, 9]', 'X[:, 10]'\n",
        "))\n",
        "print('-' * 110)\n",
        "\n",
        "for i in range(10):\n",
        "    print('{:8.3f}{:8.3f}{:10.3f}{:10.3f}{:8.3f}{:8.3f}{:8.3f}{:8.3f}{:8.3f}{:10.3f}{:8.3f}'.format(\n",
        "        X_norm[i, 0], X_norm[i, 1], X_norm[i, 2], X_norm[i, 3], X_norm[i, 4], X_norm[i, 5], X_norm[i, 6], X_norm[i, 7], X_norm[i, 8], X_norm[i, 9], X_norm[i, 10]\n",
        "    ))"
      ],
      "metadata": {
        "colab": {
          "base_uri": "https://localhost:8080/"
        },
        "id": "Le75gQi-h9_U",
        "outputId": "1d3f04d4-c792-494b-8e08-619ceb560702"
      },
      "execution_count": 10,
      "outputs": [
        {
          "output_type": "stream",
          "name": "stdout",
          "text": [
            "  X[:,0] X[:, 1]   X[:, 2]   X[:, 3] X[:, 4] X[:, 5] X[:, 6] X[:, 7]X[:, 8]   X[:, 9]  X[:, 10]\n",
            "--------------------------------------------------------------------------------------------------------------\n",
            "   1.294  -0.469    -0.765     1.680   0.240  -1.394  -0.216  -1.114  -0.252     0.500   0.740\n",
            "   1.588   0.533     0.075     0.542   2.472  -0.124   2.139   0.008   0.897    -1.086  -0.693\n",
            "  -0.767  -0.469    -1.184    -0.596   1.310  -0.942   0.939  -1.128  -0.980    -0.942  -0.270\n",
            "  -1.062   1.035     0.075     1.111  -1.201  -0.102  -0.758  -1.128  -0.980    -0.077  -0.571\n",
            "   0.705   0.032    -0.765     0.542   1.589   0.350   1.150   0.008   0.897     1.077  -0.270\n",
            "  -0.473   0.533     1.334    -0.596  -0.132   0.953  -0.707  -1.022  -0.235    -0.942   1.028\n",
            "  -0.767   0.533    -0.345    -0.596   0.612  -1.803   0.406   2.902  -0.617     0.356   0.958\n",
            "   1.588   1.035     0.075    -0.027   0.101  -1.803  -0.108  -0.733  -0.786    -1.374  -0.502\n",
            "   1.294  -0.970    -0.765    -0.596   2.147   0.328   3.776   0.539   0.282     2.518  -0.557\n",
            "   1.588   1.536    -0.765     2.249  -1.108   0.199  -0.414  -0.414  -0.789     1.365  -0.456\n"
          ]
        }
      ]
    },
    {
      "cell_type": "code",
      "source": [
        "X_ready = np.concatenate([np.ones((m_train, 1)), X_norm], axis=1)\n",
        "\n",
        "# print(len(X_ready[0]))\n",
        "\n",
        "# Imprime todos las X_norm de datos solo 10\n",
        "print('{:>8s}{:>8s}{:>10s}{:>10s}{:>8s}{:>8s}{:>8s}{:>8s}{:>6s}{:>10s}{:>10s}{:>10s}'.format(\n",
        "    'X[:,0]', 'X[:, 1]', 'X[:, 2]', 'X[:, 3]', 'X[:, 4]', 'X[:, 5]', 'X[:, 6]', 'X[:, 7]', 'X[:, 8]', 'X[:, 9]', 'X[:, 10]', 'X[:, 11]'\n",
        "))\n",
        "print('-' * 130)\n",
        "\n",
        "for i in range(10):\n",
        "    print('{:8.3f}{:8.3f}{:10.3f}{:10.3f}{:8.3f}{:8.3f}{:8.3f}{:8.3f}{:8.3f}{:10.3f}{:8.3f}{:8.3f}'.format(\n",
        "        X_ready[i, 0], X_ready[i, 1], X_ready[i, 2], X_ready[i, 3], X_ready[i, 4], X_ready[i, 5], X_ready[i, 6], X_ready[i, 7], X_ready[i, 8], X_ready[i, 9], X_ready[i, 10], X_ready[i, 11]\n",
        "    ))"
      ],
      "metadata": {
        "colab": {
          "base_uri": "https://localhost:8080/"
        },
        "id": "VZHcun_ciABx",
        "outputId": "a920d435-82f7-4d6d-d477-722e4d1536cb"
      },
      "execution_count": 11,
      "outputs": [
        {
          "output_type": "stream",
          "name": "stdout",
          "text": [
            "  X[:,0] X[:, 1]   X[:, 2]   X[:, 3] X[:, 4] X[:, 5] X[:, 6] X[:, 7]X[:, 8]   X[:, 9]  X[:, 10]  X[:, 11]\n",
            "----------------------------------------------------------------------------------------------------------------------------------\n",
            "   1.000   1.294    -0.469    -0.765   1.680   0.240  -1.394  -0.216  -1.114    -0.252   0.500   0.740\n",
            "   1.000   1.588     0.533     0.075   0.542   2.472  -0.124   2.139   0.008     0.897  -1.086  -0.693\n",
            "   1.000  -0.767    -0.469    -1.184  -0.596   1.310  -0.942   0.939  -1.128    -0.980  -0.942  -0.270\n",
            "   1.000  -1.062     1.035     0.075   1.111  -1.201  -0.102  -0.758  -1.128    -0.980  -0.077  -0.571\n",
            "   1.000   0.705     0.032    -0.765   0.542   1.589   0.350   1.150   0.008     0.897   1.077  -0.270\n",
            "   1.000  -0.473     0.533     1.334  -0.596  -0.132   0.953  -0.707  -1.022    -0.235  -0.942   1.028\n",
            "   1.000  -0.767     0.533    -0.345  -0.596   0.612  -1.803   0.406   2.902    -0.617   0.356   0.958\n",
            "   1.000   1.588     1.035     0.075  -0.027   0.101  -1.803  -0.108  -0.733    -0.786  -1.374  -0.502\n",
            "   1.000   1.294    -0.970    -0.765  -0.596   2.147   0.328   3.776   0.539     0.282   2.518  -0.557\n",
            "   1.000   1.588     1.536    -0.765   2.249  -1.108   0.199  -0.414  -0.414    -0.789   1.365  -0.456\n"
          ]
        }
      ]
    },
    {
      "cell_type": "markdown",
      "source": [
        "#Función Sigmoidea"
      ],
      "metadata": {
        "id": "jhddQBFQi_TG"
      }
    },
    {
      "cell_type": "code",
      "source": [
        "def sigmoid(z):\n",
        "    # Calcula la sigmoide de una entrada z\n",
        "    # Convierte la intrada a un arreglo numpy\n",
        "    z = np.array(z)\n",
        "\n",
        "    g = np.zeros(z.shape)\n",
        "\n",
        "    g = 1 / (1 + np.exp(-z))\n",
        "\n",
        "    return g"
      ],
      "metadata": {
        "id": "9JD6W3gciBoZ"
      },
      "execution_count": 12,
      "outputs": []
    },
    {
      "cell_type": "code",
      "source": [
        "print(sigmoid(0))"
      ],
      "metadata": {
        "colab": {
          "base_uri": "https://localhost:8080/"
        },
        "id": "XHuzVL_LiDdq",
        "outputId": "35c01769-b0bb-457e-b1d7-6e43036a78b0"
      },
      "execution_count": 13,
      "outputs": [
        {
          "output_type": "stream",
          "name": "stdout",
          "text": [
            "0.5\n"
          ]
        }
      ]
    },
    {
      "cell_type": "code",
      "source": [
        "z = [0.5, 6, 5]\n",
        "print(sigmoid(z))"
      ],
      "metadata": {
        "colab": {
          "base_uri": "https://localhost:8080/"
        },
        "id": "0e0U-FWLiEFp",
        "outputId": "c622def6-0746-44f0-8300-9fa3cec967e6"
      },
      "execution_count": 14,
      "outputs": [
        {
          "output_type": "stream",
          "name": "stdout",
          "text": [
            "[0.62245933 0.99752738 0.99330715]\n"
          ]
        }
      ]
    },
    {
      "cell_type": "code",
      "source": [],
      "metadata": {
        "id": "dbppHo7EgN_r"
      },
      "execution_count": null,
      "outputs": []
    },
    {
      "cell_type": "markdown",
      "source": [
        "# Calculo de costo y descenso con regularizacion"
      ],
      "metadata": {
        "id": "DchxhWTagRbi"
      }
    },
    {
      "cell_type": "code",
      "execution_count": 15,
      "metadata": {
        "id": "UzAf4N6tQ6nE"
      },
      "outputs": [],
      "source": [
        "def calcularCostoCR(theta, X, y, lambda_):\n",
        "    # Inicializar algunos valores utiles\n",
        "    m = y.size  # numero de ejemplos de entrenamiento\n",
        "\n",
        "    J = 0\n",
        "\n",
        "    # temp = theta.copy()\n",
        "    # temp[0] = 0\n",
        "\n",
        "    #hacemos el uso de la funcion sigmoid\n",
        "    h = sigmoid(X.dot(theta.T))\n",
        "\n",
        "    J = (1 / m) * np.sum(-y.dot(np.log(h)) - (1 - y).dot(np.log(1 - h)))\n",
        "\n",
        "    # Calculamos el término de regularización (sin incluir el primer término de theta)\n",
        "    regularization_term = (lambda_ / (2 * m)) * np.sum(np.square(theta[1:]))\n",
        "\n",
        "    # Sumamos el término de regularización al costo total\n",
        "    J += regularization_term\n",
        "\n",
        "    return J"
      ]
    },
    {
      "cell_type": "code",
      "execution_count": 16,
      "metadata": {
        "id": "v0lQIY66Q6nE"
      },
      "outputs": [],
      "source": [
        "def descensoGradienteCR(theta, X, y, alpha, lambda_, num_iters):\n",
        "    # Inicializa algunos valores\n",
        "    m = y.shape[0] # numero de ejemplos de entrenamiento\n",
        "\n",
        "    # realiza una copia de theta, el cual será acutalizada por el descenso por el gradiente\n",
        "    theta = theta.copy()\n",
        "    J_history = []\n",
        "\n",
        "    for i in range(num_iters):\n",
        "        h = sigmoid(X.dot(theta.T))\n",
        "\n",
        "        # Calcula el gradiente descendente sin regularización\n",
        "        gradient = (1 / m) * X.T.dot(h - y)\n",
        "\n",
        "        # Calcula el término de regularización (excepto para el término de sesgo theta[0])\n",
        "        regularization_term = (lambda_ / m) * theta[1:]\n",
        "\n",
        "        # theta[0] -= alpha * (1 / m) * np.sum(h - y)\n",
        "        theta[0] -= alpha * gradient[0]\n",
        "        theta[1:] -= alpha * (gradient[1:]+ regularization_term)\n",
        "\n",
        "        # Calcula y guarda el costo en cada iteración\n",
        "        J_history.append(calcularCostoCR(theta, X, y, lambda_))\n",
        "\n",
        "    return theta, J_history"
      ]
    },
    {
      "cell_type": "markdown",
      "source": [
        "# Calculo de costo y descenso sin regularizacion"
      ],
      "metadata": {
        "id": "tcJzeXj1g1nG"
      }
    },
    {
      "cell_type": "code",
      "execution_count": 17,
      "metadata": {
        "id": "DoRlUzhKQ6nE"
      },
      "outputs": [],
      "source": [
        "def calcularCostoSR(theta, X, y):\n",
        "    # Inicializar algunos valores utiles\n",
        "    m = y.size  # numero de ejemplos de entrenamiento\n",
        "\n",
        "    J = 0\n",
        "\n",
        "    #hacemos el uso de la funcion sigmoid\n",
        "    h = sigmoid(X.dot(theta.T))\n",
        "    J = (1 / m) * np.sum(-y.dot(np.log(h)) - (1 - y).dot(np.log(1 - h)))\n",
        "\n",
        "    return J"
      ]
    },
    {
      "cell_type": "code",
      "execution_count": 18,
      "metadata": {
        "id": "u_G4XZg8Q6nF"
      },
      "outputs": [],
      "source": [
        "def descensoGradienteSR(theta, X, y, alpha, num_iters):\n",
        "    # Inicializa algunos valores\n",
        "    m = y.shape[0] # numero de ejemplos de entrenamiento\n",
        "\n",
        "    # realiza una copia de theta, el cual será acutalizada por el descenso por el gradiente\n",
        "    theta = theta.copy()\n",
        "    J_history = []\n",
        "\n",
        "    for i in range(num_iters):\n",
        "        h = sigmoid(X.dot(theta.T))\n",
        "        theta = theta - (alpha / m) * (h - y).dot(X)\n",
        "\n",
        "        J_history.append(calcularCostoSR(theta, X, y))\n",
        "    return theta, J_history"
      ]
    },
    {
      "cell_type": "markdown",
      "source": [
        "# Con regularizacion"
      ],
      "metadata": {
        "id": "YrUJlz0AhF7-"
      }
    },
    {
      "cell_type": "markdown",
      "metadata": {
        "id": "4Fj95KKPQ6nF"
      },
      "source": [
        "##Regresion"
      ]
    },
    {
      "cell_type": "code",
      "execution_count": 20,
      "metadata": {
        "id": "kVvLIloRQ6nF",
        "outputId": "ff5e9b74-3c5e-46d0-a672-595ce51577ea",
        "colab": {
          "base_uri": "https://localhost:8080/"
        }
      },
      "outputs": [
        {
          "output_type": "stream",
          "name": "stdout",
          "text": [
            "  X[:,0] X[:, 1]   X[:, 2]   X[:, 3] X[:, 4] X[:, 5] X[:, 6] X[:, 7]X[:, 8]   X[:, 9]  X[:, 10]         Y\n",
            "--------------------------------------------------------------------------------------------------------------\n",
            "      11       3         2         6      33      69    2542       0       0        15      41           0\n",
            "      12       5         4         4      81     128   12551       0       0         4      33           0\n",
            "       4       3         1         2      56      90    7448       0       0         5      35           0\n",
            "       3       6         4         5       2     129     237       0       0        11      34           0\n",
            "       9       4         2         4      62     150    8345       0       0        19      35           0\n",
            "       5       5         7         2      25     178     454       0       0         5      42           0\n",
            "       4       5         3         2      41      50    5184       0       0        14      42           0\n",
            "      12       6         4         3      30      50    2998       0       0         2      34           1\n",
            "      11       2         2         2      74     149   19506       0       0        29      34           0\n",
            "      12       7         2         7       4     143    1699       0       0        21      34           1\n",
            " \n",
            "El 80% de ejemplos para entrenamiento son la cantidad de: 5191249 de ejemplos\n",
            "El 20% de ejemplos para pruebas son la cantidad de: 1297813 de ejemplos\n"
          ]
        }
      ],
      "source": [
        "\n",
        "X_testCR = X_test.copy()\n",
        "y_testCR = y_test.copy()\n",
        "m_test_CR = len(y_testCR)\n",
        "\n",
        "\n",
        "X_trainCR = X_train.copy()\n",
        "y_trainCR = y_train.copy()\n",
        "m_train_CR = len(y_trainCR)\n",
        "\n",
        "print('{:>8s}{:>8s}{:>10s}{:>10s}{:>8s}{:>8s}{:>8s}{:>8s}{:>6s}{:>10s}{:>10s}{:>10s}'.format(\n",
        "    'X[:,0]', 'X[:, 1]', 'X[:, 2]', 'X[:, 3]', 'X[:, 4]', 'X[:, 5]', 'X[:, 6]', 'X[:, 7]', 'X[:, 8]', 'X[:, 9]', 'X[:, 10]', 'Y'\n",
        "))\n",
        "print('-' * 110)\n",
        "\n",
        "for i in range(10):\n",
        "    print('{:8.0f}{:8.0f}{:10.0f}{:10.0f}{:8.0f}{:8.0f}{:8.0f}{:8.0f}{:8.0f}{:10.0f}{:8.0f}{:12.0f}'.format(\n",
        "        X_trainCR[i, 0],\n",
        "        X_trainCR[i, 1],\n",
        "        X_trainCR[i, 2],\n",
        "        X_trainCR[i, 3],\n",
        "        X_trainCR[i, 4],\n",
        "        X_trainCR[i, 5],\n",
        "        X_trainCR[i, 6],\n",
        "        X_trainCR[i, 7],\n",
        "        X_trainCR[i, 8],\n",
        "        X_trainCR[i, 9],\n",
        "        X_trainCR[i, 10],\n",
        "        y_trainCR[i]\n",
        "    ))\n",
        "\n",
        "#mostramos la cantidad de ejemplos\n",
        "print(\" \")\n",
        "print('El 80% de ejemplos para entrenamiento son la cantidad de: {:.0f} de ejemplos'.format( len(train_dataset)))\n",
        "print('El 20% de ejemplos para pruebas son la cantidad de: {:.0f} de ejemplos'.format( len(test_dataset)))\n"
      ]
    },
    {
      "cell_type": "markdown",
      "metadata": {
        "id": "SV0cIvwcQ6nG"
      },
      "source": [
        "##Normalizacion\n",
        "\n",
        "Se hace uso de la funcion de `featureNormalize(X) ` donde se recibe un parametro de tipo matriz para normalizar cada dato dentro de ella, retornandome la **matriz normalizda**, **sigma(desviacion estandar)**, y mi **mu(media)**.\n",
        "\n",
        "Almacenando los datos normalizados en **X_norm** usando la funcion **featureNormaliza()**, normalizando los datos de X_train"
      ]
    },
    {
      "cell_type": "code",
      "execution_count": 23,
      "metadata": {
        "id": "vPlEIaCmQ6nG",
        "outputId": "2730762e-8c89-4c9d-ba3c-396d44627bed",
        "colab": {
          "base_uri": "https://localhost:8080/"
        }
      },
      "outputs": [
        {
          "output_type": "stream",
          "name": "stdout",
          "text": [
            "  X[:,0] X[:, 1]   X[:, 2]   X[:, 3] X[:, 4] X[:, 5] X[:, 6] X[:, 7]X[:, 8]   X[:, 9]  X[:, 10]\n",
            "--------------------------------------------------------------------------------------------------------------\n",
            "   1.294  -0.469    -0.765     1.680   0.240  -1.394  -0.216  -1.114  -0.252     0.500   0.740\n",
            "   1.588   0.533     0.075     0.542   2.472  -0.124   2.139   0.008   0.897    -1.086  -0.693\n",
            "  -0.767  -0.469    -1.184    -0.596   1.310  -0.942   0.939  -1.128  -0.980    -0.942  -0.270\n",
            "  -1.062   1.035     0.075     1.111  -1.201  -0.102  -0.758  -1.128  -0.980    -0.077  -0.571\n",
            "   0.705   0.032    -0.765     0.542   1.589   0.350   1.150   0.008   0.897     1.077  -0.270\n",
            "  -0.473   0.533     1.334    -0.596  -0.132   0.953  -0.707  -1.022  -0.235    -0.942   1.028\n",
            "  -0.767   0.533    -0.345    -0.596   0.612  -1.803   0.406   2.902  -0.617     0.356   0.958\n",
            "   1.588   1.035     0.075    -0.027   0.101  -1.803  -0.108  -0.733  -0.786    -1.374  -0.502\n",
            "   1.294  -0.970    -0.765    -0.596   2.147   0.328   3.776   0.539   0.282     2.518  -0.557\n",
            "   1.588   1.536    -0.765     2.249  -1.108   0.199  -0.414  -0.414  -0.789     1.365  -0.456\n"
          ]
        }
      ],
      "source": [
        "X_norm_CR, mu_CR, sigma_CR= featureNormalize(X_trainCR)\n",
        "\n",
        "# imprimir todos las X_norm de datos solo 10\n",
        "print('{:>8s}{:>8s}{:>10s}{:>10s}{:>8s}{:>8s}{:>8s}{:>8s}{:>6s}{:>10s}{:>10s}'.format(\n",
        "    'X[:,0]', 'X[:, 1]', 'X[:, 2]', 'X[:, 3]', 'X[:, 4]', 'X[:, 5]', 'X[:, 6]', 'X[:, 7]', 'X[:, 8]', 'X[:, 9]', 'X[:, 10]'\n",
        "))\n",
        "print('-' * 110)\n",
        "\n",
        "for i in range(10):\n",
        "    print('{:8.3f}{:8.3f}{:10.3f}{:10.3f}{:8.3f}{:8.3f}{:8.3f}{:8.3f}{:8.3f}{:10.3f}{:8.3f}'.format(\n",
        "        X_norm_CR[i, 0],\n",
        "        X_norm_CR[i, 1],\n",
        "        X_norm_CR[i, 2],\n",
        "        X_norm_CR[i, 3],\n",
        "        X_norm_CR[i, 4],\n",
        "        X_norm_CR[i, 5],\n",
        "        X_norm_CR[i, 6],\n",
        "        X_norm_CR[i, 7],\n",
        "        X_norm_CR[i, 8],\n",
        "        X_norm_CR[i, 9],\n",
        "        X_norm_CR[i, 10]\n",
        "    ))"
      ]
    },
    {
      "cell_type": "markdown",
      "metadata": {
        "id": "Qzm0bduqQ6nG"
      },
      "source": [
        "##columna de unos"
      ]
    },
    {
      "cell_type": "code",
      "execution_count": 24,
      "metadata": {
        "id": "IdUHAsouQ6nG",
        "outputId": "c5e5ad64-11a5-4729-b240-e83c1454a357",
        "colab": {
          "base_uri": "https://localhost:8080/"
        }
      },
      "outputs": [
        {
          "output_type": "stream",
          "name": "stdout",
          "text": [
            "  X[:,0] X[:, 1]   X[:, 2]   X[:, 3] X[:, 4] X[:, 5] X[:, 6] X[:, 7]X[:, 8]   X[:, 9]  X[:, 10]  X[:, 11]\n",
            "----------------------------------------------------------------------------------------------------------------------------------\n",
            "   1.000   1.294    -0.469    -0.765   1.680   0.240  -1.394  -0.216  -1.114    -0.252   0.500   0.740\n",
            "   1.000   1.588     0.533     0.075   0.542   2.472  -0.124   2.139   0.008     0.897  -1.086  -0.693\n",
            "   1.000  -0.767    -0.469    -1.184  -0.596   1.310  -0.942   0.939  -1.128    -0.980  -0.942  -0.270\n",
            "   1.000  -1.062     1.035     0.075   1.111  -1.201  -0.102  -0.758  -1.128    -0.980  -0.077  -0.571\n",
            "   1.000   0.705     0.032    -0.765   0.542   1.589   0.350   1.150   0.008     0.897   1.077  -0.270\n",
            "   1.000  -0.473     0.533     1.334  -0.596  -0.132   0.953  -0.707  -1.022    -0.235  -0.942   1.028\n",
            "   1.000  -0.767     0.533    -0.345  -0.596   0.612  -1.803   0.406   2.902    -0.617   0.356   0.958\n",
            "   1.000   1.588     1.035     0.075  -0.027   0.101  -1.803  -0.108  -0.733    -0.786  -1.374  -0.502\n",
            "   1.000   1.294    -0.970    -0.765  -0.596   2.147   0.328   3.776   0.539     0.282   2.518  -0.557\n",
            "   1.000   1.588     1.536    -0.765   2.249  -1.108   0.199  -0.414  -0.414    -0.789   1.365  -0.456\n"
          ]
        }
      ],
      "source": [
        "X_ready_CR = np.concatenate([np.ones((m_train_CR, 1)), X_norm_CR], axis=1)\n",
        "\n",
        "# print(len(X_ready[0]))\n",
        "\n",
        "# imprimir todos las X_norm de datos solo 10\n",
        "print('{:>8s}{:>8s}{:>10s}{:>10s}{:>8s}{:>8s}{:>8s}{:>8s}{:>6s}{:>10s}{:>10s}{:>10s}'.format(\n",
        "    'X[:,0]', 'X[:, 1]', 'X[:, 2]', 'X[:, 3]', 'X[:, 4]', 'X[:, 5]', 'X[:, 6]', 'X[:, 7]', 'X[:, 8]', 'X[:, 9]', 'X[:, 10]', 'X[:, 11]'\n",
        "))\n",
        "print('-' * 130)\n",
        "\n",
        "for i in range(10):\n",
        "    print('{:8.3f}{:8.3f}{:10.3f}{:10.3f}{:8.3f}{:8.3f}{:8.3f}{:8.3f}{:8.3f}{:10.3f}{:8.3f}{:8.3f}'.format(\n",
        "        X_ready_CR[i, 0],\n",
        "        X_ready_CR[i, 1],\n",
        "        X_ready_CR[i, 2],\n",
        "        X_ready_CR[i, 3],\n",
        "        X_ready_CR[i, 4],\n",
        "        X_ready_CR[i, 5],\n",
        "        X_ready_CR[i, 6],\n",
        "        X_ready_CR[i, 7],\n",
        "        X_ready_CR[i, 8],\n",
        "        X_ready_CR[i, 9],\n",
        "        X_ready_CR[i, 10],\n",
        "        X_ready_CR[i, 11]\n",
        "    ))\n"
      ]
    },
    {
      "cell_type": "markdown",
      "metadata": {
        "id": "sVXku8LhQ6nH"
      },
      "source": [
        "##Descenso por el gradiente"
      ]
    },
    {
      "cell_type": "code",
      "execution_count": 44,
      "metadata": {
        "id": "cqGPit45Q6nH",
        "outputId": "6c9c52f5-6d8d-4963-e877-0512288273f2",
        "colab": {
          "base_uri": "https://localhost:8080/"
        }
      },
      "outputs": [
        {
          "output_type": "stream",
          "name": "stdout",
          "text": [
            "12\n"
          ]
        },
        {
          "output_type": "stream",
          "name": "stderr",
          "text": [
            "<ipython-input-15-32cadc5d225f>:13: RuntimeWarning: divide by zero encountered in log\n",
            "  J = (1 / m) * np.sum(-y.dot(np.log(h)) - (1 - y).dot(np.log(1 - h)))\n"
          ]
        },
        {
          "output_type": "stream",
          "name": "stdout",
          "text": [
            "con theta:[0.2 3.  0.2 0.1 3.  0.2 1.1 2.  0.7 0.8 5.8 0.9] se obtiene un costo de: nan\n",
            "con theta:[0.1 2.  0.5 0.2 8.  0.7 1.3 8.  1.7 0.7 7.1 7.2] se obtiene un costo de: nan\n"
          ]
        }
      ],
      "source": [
        "theta_CR=np.array([0.2, 3.0, 0.2,0.1, 3.0, 0.2,1.1, 2.0, 0.7,0.8, 5.8, 0.9])\n",
        "theta_CR1=np.array([0.1, 2.0, 0.5,0.2, 8.0, 0.7,1.3, 8.0, 1.7,0.7, 7.1, 7.2])\n",
        "\n",
        "lambda_ = 1000\n",
        "print(theta_CR.shape[0])\n",
        "\n",
        "print(f\"con theta:{ theta_CR } se obtiene un costo de: {calcularCostoCR(theta_CR, X_ready_CR, y_trainCR, lambda_)}\")\n",
        "print(f\"con theta:{ theta_CR1 } se obtiene un costo de: {calcularCostoCR(theta_CR ,X_ready_CR, y_trainCR, lambda_)}\")"
      ]
    },
    {
      "cell_type": "code",
      "execution_count": 35,
      "metadata": {
        "id": "SxqFwe_zQ6nI",
        "outputId": "3701d317-c257-4b65-dc4d-d300d2449286",
        "colab": {
          "base_uri": "https://localhost:8080/"
        }
      },
      "outputs": [
        {
          "output_type": "stream",
          "name": "stdout",
          "text": [
            "########################################################################################################\n",
            "Los valores de theta calculados son:\n",
            "theta 1: -1.3333068978903562\n",
            "theta 2: -0.040952626602171534\n",
            "theta 3: 0.004787038158574487\n",
            "theta 4: 0.06967494902286026\n",
            "theta 5: 0.24348559973491524\n",
            "theta 6: 0.016628221937458772\n",
            "theta 7: 0.047945167432344164\n",
            "theta 8: 0.009182030168331856\n",
            "theta 9: 0.004926545666151925\n",
            "theta 10: -0.028388509323318826\n",
            "theta 11: 0.009232767621945848\n",
            "theta 12: 0.013151151993884986\n",
            "########################################################################################################\n",
            "con un costo de: 0.47865664709926936 \n"
          ]
        }
      ],
      "source": [
        "#creamos un theta con 19 columnas de ceros\n",
        "theta_CR = np.zeros(len(X_ready_CR[0]))\n",
        "\n",
        "#numero de iteraciones sera 900 y un alpha 0.009\n",
        "num_ite_CR = 1500\n",
        "alpha_CR = 0.009\n",
        "lambda_CR = 1000\n",
        "\n",
        "theta_CR, J_historico_CR = descensoGradienteCR(theta_CR, X_ready_CR, y_trainCR, alpha_CR, lambda_CR, num_ite_CR)\n",
        "\n",
        "print(\"########################################################################################################\")\n",
        "print(\"Los valores de theta calculados son:\")\n",
        "i = 0\n",
        "for tht in theta_CR:\n",
        "    i += 1\n",
        "    print(f\"theta {i}: {tht}\")\n",
        "\n",
        "\n",
        "print(f\"########################################################################################################\")\n",
        "#mostramos el ultimo costo, este seria el mejor costo\n",
        "print(f\"con un costo de: { J_historico_CR[-1]} \")"
      ]
    },
    {
      "cell_type": "markdown",
      "metadata": {
        "id": "OLMnQnsRQ6nJ"
      },
      "source": [
        "##Grafica de la convergencia del costo"
      ]
    },
    {
      "cell_type": "code",
      "execution_count": 36,
      "metadata": {
        "id": "PZLp_iqAQ6nJ",
        "outputId": "039aab8d-d1b4-433d-816a-5384940114ce",
        "colab": {
          "base_uri": "https://localhost:8080/",
          "height": 489
        }
      },
      "outputs": [
        {
          "output_type": "execute_result",
          "data": {
            "text/plain": [
              "Text(0, 0.5, 'Costo J')"
            ]
          },
          "metadata": {},
          "execution_count": 36
        },
        {
          "output_type": "display_data",
          "data": {
            "text/plain": [
              "<Figure size 640x480 with 1 Axes>"
            ],
            "image/png": "[encoded data removed]"
          },
          "metadata": {}
        }
      ],
      "source": [
        "pyplot.plot(np.arange(len(J_historico_CR)), J_historico_CR, lw=2)\n",
        "pyplot.title(\"Grafica de la convergencia del costo\")\n",
        "pyplot.xlabel('Numero de iteraciones')\n",
        "pyplot.ylabel('Costo J')"
      ]
    },
    {
      "cell_type": "code",
      "execution_count": 45,
      "metadata": {
        "id": "OhKcsmovQ6nO",
        "outputId": "46658782-22d4-4d48-a60a-ce3fe87cff96",
        "colab": {
          "base_uri": "https://localhost:8080/"
        }
      },
      "outputs": [
        {
          "output_type": "stream",
          "name": "stdout",
          "text": [
            "Una pasajero con las caracteristicas: [1, 7, 0, 2, 1, 25, 143, 5873, 6.2e-05, 9.9e-05, 8, 36.08] \n",
            "Tiene una probabilidad de que su vuelo se retrase de un: 0.23272420359230225 %\n",
            "Con valores de theta: [0.2 3.  0.2 0.1 3.  0.2 1.1 2.  0.7 0.8 5.8 0.9]\n"
          ]
        }
      ],
      "source": [
        "X_array_CR = [1,7,0,2,1,25,143,5873,0.000062,0.000099,8,36.080]\n",
        "X_array_copy_CR = X_array_CR.copy()\n",
        "#Se normaliza las caracteristicas para la prueba. haciendo el uso de mu y sigma calculados anteriormente, solamente los valores despues del primero, porque este es el 1.\n",
        "X_array_CR[1:] = (X_array_CR[1:] - mu_CR) / sigma_CR\n",
        "\n",
        "resultados_CR = sigmoid(np.dot(X_array_CR, theta_CR))\n",
        "\n",
        "print(f\"Una pasajero con las caracteristicas: {X_array_copy_CR} \")\n",
        "print(f'Tiene una probabilidad de que su vuelo se retrase de un: {resultados_CR * 100} %')\n",
        "\n",
        "print(f\"Con valores de theta: { theta_CR }\")"
      ]
    },
    {
      "cell_type": "markdown",
      "metadata": {
        "id": "nrxCpbwaQ6nO"
      },
      "source": [
        "##Predicciones\n"
      ]
    },
    {
      "cell_type": "code",
      "execution_count": 39,
      "metadata": {
        "id": "w4a5q5kXQ6nP",
        "outputId": "36d989f3-24a6-4765-e727-321b278358ee",
        "colab": {
          "base_uri": "https://localhost:8080/"
        }
      },
      "outputs": [
        {
          "output_type": "stream",
          "name": "stdout",
          "text": [
            "+----+---------+---------------+------------------+------------------+----------------------+-------------------+---------------------------------+---------------------------+------------------------+-------------+------------+-------------+\n",
            "|    |   MONTH |   DAY_OF_WEEK |   DISTANCE_GROUP |   SEGMENT_NUMBER |   CONCURRENT_FLIGHTS |   NUMBER_OF_SEATS |   AIRLINE_AIRPORT_FLIGHTS_MONTH |   FLT_ATTENDANTS_PER_PASS |   GROUND_SERV_PER_PASS |   PLANE_AGE |   LATITUDE |   DEP_DEL15 |\n",
            "+====+=========+===============+==================+==================+======================+===================+=================================+===========================+========================+=============+============+=============+\n",
            "|  1 |       7 |             2 |                1 |               25 |                  143 |              5873 |                         6.2e-05 |                   9.9e-05 |                      8 |       36.08 |   0.17243  |           0 |\n",
            "+----+---------+---------------+------------------+------------------+----------------------+-------------------+---------------------------------+---------------------------+------------------------+-------------+------------+-------------+\n",
            "|  1 |       7 |             2 |                1 |               24 |                  143 |              5873 |                         6.2e-05 |                   9.5e-05 |                      8 |       28.08 |   0.169953 |           0 |\n",
            "+----+---------+---------------+------------------+------------------+----------------------+-------------------+---------------------------------+---------------------------+------------------------+-------------+------------+-------------+\n",
            "|  2 |       5 |             4 |                1 |               25 |                  173 |              5876 |                         6.2e-05 |                   9.9e-05 |                      8 |       30.08 |   0.180904 |           0 |\n",
            "+----+---------+---------------+------------------+------------------+----------------------+-------------------+---------------------------------+---------------------------+------------------------+-------------+------------+-------------+\n",
            "|  2 |       4 |             4 |                1 |               27 |                  134 |              5876 |                         6.5e-05 |                   9.9e-05 |                      8 |       34.08 |   0.176302 |           0 |\n",
            "+----+---------+---------------+------------------+------------------+----------------------+-------------------+---------------------------------+---------------------------+------------------------+-------------+------------+-------------+\n",
            "|  3 |       6 |             6 |                1 |               25 |                  156 |              5876 |                         6.2e-05 |                   9.4e-05 |                      9 |       36.08 |   0.188435 |           0 |\n",
            "+----+---------+---------------+------------------+------------------+----------------------+-------------------+---------------------------------+---------------------------+------------------------+-------------+------------+-------------+\n",
            "|  3 |       1 |             4 |                1 |               25 |                  152 |              5878 |                         6.2e-05 |                   9.9e-05 |                      9 |       36.08 |   0.176843 |           0 |\n",
            "+----+---------+---------------+------------------+------------------+----------------------+-------------------+---------------------------------+---------------------------+------------------------+-------------+------------+-------------+\n",
            "|  4 |       2 |             2 |                1 |               26 |                  149 |              5878 |                         6.2e-05 |                   9.7e-05 |                     12 |       32.08 |   0.166212 |           0 |\n",
            "+----+---------+---------------+------------------+------------------+----------------------+-------------------+---------------------------------+---------------------------+------------------------+-------------+------------+-------------+\n",
            "|  4 |       3 |             4 |                1 |               27 |                  146 |              5878 |                         7.3e-05 |                   9.9e-05 |                     12 |       26.08 |   0.172349 |           0 |\n",
            "+----+---------+---------------+------------------+------------------+----------------------+-------------------+---------------------------------+---------------------------+------------------------+-------------+------------+-------------+\n",
            "|  5 |       4 |             6 |                1 |               28 |                  143 |              5886 |                         6.2e-05 |                   9.9e-05 |                     16 |       29.08 |   0.18084  |           0 |\n",
            "+----+---------+---------------+------------------+------------------+----------------------+-------------------+---------------------------------+---------------------------+------------------------+-------------+------------+-------------+\n",
            "|  6 |       5 |             2 |                1 |               29 |                  142 |              5887 |                         6.2e-05 |                   9.8e-05 |                     16 |       36.08 |   0.165172 |           0 |\n",
            "+----+---------+---------------+------------------+------------------+----------------------+-------------------+---------------------------------+---------------------------+------------------------+-------------+------------+-------------+\n",
            "|  7 |       6 |             4 |                1 |               25 |                  143 |              5888 |                         5.4e-05 |                   9.9e-05 |                     21 |       34.08 |   0.171839 |           0 |\n",
            "+----+---------+---------------+------------------+------------------+----------------------+-------------------+---------------------------------+---------------------------+------------------------+-------------+------------+-------------+\n"
          ]
        }
      ],
      "source": [
        "nombres_columnas = ['MONTH',\t'DAY_OF_WEEK',\t'DISTANCE_GROUP',\t'SEGMENT_NUMBER',\t'CONCURRENT_FLIGHTS',\t'NUMBER_OF_SEATS',\t'AIRLINE_AIRPORT_FLIGHTS_MONTH',\t'FLT_ATTENDANTS_PER_PASS',\t'GROUND_SERV_PER_PASS',\t'PLANE_AGE',\t'LATITUDE',\t'DEP_DEL15']\n",
        "matriz_datos_CR = np.array([\n",
        "[1,7,2,1,25,143,5873,0.000062,0.000099,8,36.080],\n",
        "[1,7,2,1,24,143,5873,0.000062,0.000095,8,28.080],\n",
        "[2,5,4,1,25,173,5876,0.000062,0.000099,8,30.080],\n",
        "[2,4,4,1,27,134,5876,0.000065,0.000099,8,34.080],\n",
        "[3,6,6,1,25,156,5876,0.000062,0.000094,9,36.080],\n",
        "[3,1,4,1,25,152,5878,0.000062,0.000099,9,36.080],\n",
        "[4,2,2,1,26,149,5878,0.000062,0.000097,12,32.080],\n",
        "[4,3,4,1,27,146,5878,0.000073,0.000099,12,26.080],\n",
        "[5,4,6,1,28,143,5886,0.000062,0.000099,16,29.080],\n",
        "[6,5,2,1,29,142,5887,0.000062,0.000098,16,36.080],\n",
        "[7,6,4,1,25,143,5888,0.000054,0.000099,21,34.080],\n",
        "])\n",
        "para_tabla = matriz_datos_CR.copy()\n",
        "#creamos un vector parta almacenar cada Y predicha\n",
        "y_pre_CR = []\n",
        "\n",
        "matriz_datos_CR = (matriz_datos_CR- mu_CR) / sigma_CR\n",
        "matriz_datos_CR = np.concatenate([np.ones((len(matriz_datos_CR), 1)), matriz_datos_CR], axis=1)\n",
        "\n",
        "# Calculamos la Y predicha de los 11 ejemplos de prediccion\n",
        "# Calculamos la Y predicha de cada fila de la matriz\n",
        "for j in matriz_datos_CR:\n",
        "    y_pre_CR.append(sigmoid(np.dot(j, theta_CR)))\n",
        "\n",
        "# Convertimos la lista a un array unidimensional\n",
        "\n",
        "y_pre_CR = np.array(y_pre_CR)\n",
        "\n",
        "# usamos umbral para definir si tiene o no la enfermedad\n",
        "y_pre_umbral_CR = (y_pre_CR >= 0.5).astype(int)\n",
        "\n",
        "para_tabla = np.column_stack((para_tabla, y_pre_CR))\n",
        "para_tabla = np.column_stack((para_tabla, y_pre_umbral_CR))\n",
        "# Convertir la matriz en una lista de listas\n",
        "datos_para_tabla = para_tabla.tolist()\n",
        "\n",
        "# Imprimir la tabla\n",
        "print(tabulate(datos_para_tabla, headers=nombres_columnas, tablefmt='grid'))"
      ]
    },
    {
      "cell_type": "markdown",
      "metadata": {
        "id": "rdWE4054Q6nP"
      },
      "source": [
        "## Validaciones"
      ]
    },
    {
      "cell_type": "code",
      "execution_count": 40,
      "metadata": {
        "id": "u_GFr5lPQ6nP"
      },
      "outputs": [],
      "source": [
        "X_norm_test_CR = (X_testCR- mu_CR) / sigma_CR\n",
        "m_test= len(X_testCR)"
      ]
    },
    {
      "cell_type": "code",
      "execution_count": 41,
      "metadata": {
        "id": "3FlfagsQQ6nQ",
        "outputId": "feac6136-63a6-4a9c-ad68-0b58e893c7d4",
        "colab": {
          "base_uri": "https://localhost:8080/"
        }
      },
      "outputs": [
        {
          "output_type": "stream",
          "name": "stdout",
          "text": [
            "  X[:,0] X[:, 1]   X[:, 2]   X[:, 3] X[:, 4] X[:, 5] X[:, 6] X[:, 7]X[:, 8]   X[:, 9]  X[:, 10]  X[:, 11]\n",
            "--------------------------------------------------------------------------------------------------------------\n",
            "   1.000  -1.062     0.533    -0.345   0.542  -0.039  -1.394  -0.114  -1.114    -0.252  -0.077   0.390\n",
            "   1.000   0.705     1.536     0.495  -1.165  -0.969  -0.124   0.081   0.008     0.897  -0.798  -1.984\n",
            "   1.000   1.588    -1.471    -0.345   1.111  -0.597  -1.243  -0.653  -1.128    -0.904  -0.942  -0.151\n",
            "   1.000   0.410    -0.469     0.915  -0.596  -0.271   3.062   0.300   1.807     2.009   0.788   0.725\n",
            "   1.000   0.705     0.533    -0.765  -1.165  -1.155  -1.243  -0.798  -1.128    -0.952  -1.374  -0.092\n",
            "   1.000   1.588    -1.471    -0.765  -1.165   0.473  -1.458   0.432  -0.733    -0.786  -0.221   0.958\n",
            "   1.000   1.588     1.536    -1.184  -0.596  -0.178  -0.038  -0.453   0.539     0.282   0.788   1.028\n",
            "   1.000  -0.473     1.035     0.915  -0.027  -0.922  -1.372  -0.746  -0.733    -0.786  -1.518  -0.701\n",
            "   1.000  -0.767    -1.471     0.495  -1.165   0.287   0.759  -0.263   1.807     2.009   1.509   0.406\n",
            "   1.000  -1.062     0.032     2.174  -1.165   0.194   0.888   0.647  -0.414    -0.789  -0.653  -0.114\n"
          ]
        }
      ],
      "source": [
        "X_test_ready_CR = np.concatenate([np.ones((m_test_CR, 1)), X_norm_test_CR], axis=1)\n",
        "\n",
        "# imprimir todos las X_norm de datos solo 10\n",
        "print('{:>8s}{:>8s}{:>10s}{:>10s}{:>8s}{:>8s}{:>8s}{:>8s}{:>6s}{:>10s}{:>10s}{:>10s}'.format(\n",
        "    'X[:,0]', 'X[:, 1]', 'X[:, 2]', 'X[:, 3]', 'X[:, 4]', 'X[:, 5]', 'X[:, 6]', 'X[:, 7]', 'X[:, 8]', 'X[:, 9]', 'X[:, 10]', 'X[:, 11]'\n",
        "))\n",
        "print('-' * 110)\n",
        "\n",
        "for i in range(10):\n",
        "    print('{:8.3f}{:8.3f}{:10.3f}{:10.3f}{:8.3f}{:8.3f}{:8.3f}{:8.3f}{:8.3f}{:10.3f}{:8.3f}{:8.3f}'.format(\n",
        "    X_test_ready_CR[i, 0],\n",
        "    X_test_ready_CR[i, 1],\n",
        "    X_test_ready_CR[i, 2],\n",
        "    X_test_ready_CR[i, 3],\n",
        "    X_test_ready_CR[i, 4],\n",
        "    X_test_ready_CR[i, 5],\n",
        "    X_test_ready_CR[i, 6],\n",
        "    X_test_ready_CR[i, 7],\n",
        "    X_test_ready_CR[i, 8],\n",
        "    X_test_ready_CR[i, 9],\n",
        "    X_test_ready_CR[i, 10],\n",
        "    X_test_ready_CR[i, 11]\n",
        "    ))"
      ]
    },
    {
      "cell_type": "code",
      "execution_count": 42,
      "metadata": {
        "id": "7yh_HfB6Q6nQ",
        "outputId": "a2f2742d-86b1-4f1a-d93b-150e8a0e40bd",
        "colab": {
          "base_uri": "https://localhost:8080/"
        }
      },
      "outputs": [
        {
          "output_type": "stream",
          "name": "stdout",
          "text": [
            "  X[:,0] X[:, 1]   X[:, 2]   X[:, 3] X[:, 4] X[:, 5] X[:, 6] X[:, 7]X[:, 8]   X[:, 9]  X[:, 10]  X[:, 11]         y     (y) usando el umbral\n",
            "--------------------------------------------------------------------------------------------------------------------------------------------\n",
            "   1.000  -1.062     0.533    -0.345   0.542  -0.039  -1.394  -0.114  -1.114    -0.252  -0.077   0.390           0.22              0\n",
            "   1.000   0.705     1.536     0.495  -1.165  -0.969  -0.124   0.081   0.008     0.897  -0.798  -1.984           0.16              0\n",
            "   1.000   1.588    -1.471    -0.345   1.111  -0.597  -1.243  -0.653  -1.128    -0.904  -0.942  -0.151           0.23              0\n",
            "   1.000   0.410    -0.469     0.915  -0.596  -0.271   3.062   0.300   1.807     2.009   0.788   0.725           0.21              0\n",
            "   1.000   0.705     0.533    -0.765  -1.165  -1.155  -1.243  -0.798  -1.128    -0.952  -1.374  -0.092           0.14              0\n",
            "   1.000   1.588    -1.471    -0.765  -1.165   0.473  -1.458   0.432  -0.733    -0.786  -0.221   0.958           0.15              0\n",
            "   1.000   1.588     1.536    -1.184  -0.596  -0.178  -0.038  -0.453   0.539     0.282   0.788   1.028           0.17              0\n",
            "   1.000  -0.473     1.035     0.915  -0.027  -0.922  -1.372  -0.746  -0.733    -0.786  -1.518  -0.701           0.21              0\n",
            "   1.000  -0.767    -1.471     0.495  -1.165   0.287   0.759  -0.263   1.807     2.009   1.509   0.406           0.18              0\n",
            "   1.000  -1.062     0.032     2.174  -1.165   0.194   0.888   0.647  -0.414    -0.789  -0.653  -0.114           0.20              0\n"
          ]
        }
      ],
      "source": [
        "y_predicha_CR =[]\n",
        "# Calculamos la Y predicha de cada fila de la matriz\n",
        "for dato in X_test_ready_CR:\n",
        "    y_predicha_CR.append(sigmoid(np.dot(dato, theta_CR.T)))\n",
        "\n",
        "# Convertimos la lista a un array unidimensional\n",
        "y_predicha_CR = np.array(y_predicha_CR)\n",
        "\n",
        "#usando el umbral donde todo aquello que sea >= 0.5 sera 1, y si es menor sera 0\n",
        "y_umbral_CR = (y_predicha_CR >= 0.5).astype(int)\n",
        "\n",
        "# imprimir todos las X_norm de datos solo 10\n",
        "print('{:>8s}{:>8s}{:>10s}{:>10s}{:>8s}{:>8s}{:>8s}{:>8s}{:>6s}{:>10s}{:>10s}{:>10s}{:>10s}{:>25s}'.format(\n",
        "    'X[:,0]', 'X[:, 1]', 'X[:, 2]', 'X[:, 3]', 'X[:, 4]', 'X[:, 5]', 'X[:, 6]', 'X[:, 7]', 'X[:, 8]', 'X[:, 9]', 'X[:, 10]', 'X[:, 11]','y','(y) usando el umbral'\n",
        "))\n",
        "print('-' * 140)\n",
        "\n",
        "#Mostrando algunos datos\n",
        "for i in range(10):\n",
        "    print('{:8.3f}{:8.3f}{:10.3f}{:10.3f}{:8.3f}{:8.3f}{:8.3f}{:8.3f}{:8.3f}{:10.3f}{:8.3f}{:8.3f}{:15.2f}{:15.0f}'.format(\n",
        "    X_test_ready_CR[i, 0],\n",
        "    X_test_ready_CR[i, 1],\n",
        "    X_test_ready_CR[i, 2],\n",
        "    X_test_ready_CR[i, 3],\n",
        "    X_test_ready_CR[i, 4],\n",
        "    X_test_ready_CR[i, 5],\n",
        "    X_test_ready_CR[i, 6],\n",
        "    X_test_ready_CR[i, 7],\n",
        "    X_test_ready_CR[i, 8],\n",
        "    X_test_ready_CR[i, 9],\n",
        "    X_test_ready_CR[i, 10],\n",
        "    X_test_ready_CR[i, 11],\n",
        "    y_predicha_CR[i],\n",
        "    y_umbral_CR[i]\n",
        "    ))"
      ]
    },
    {
      "cell_type": "markdown",
      "metadata": {
        "id": "j-8boPFpQ6nR"
      },
      "source": [
        "##precision del entrenamiento:\n"
      ]
    },
    {
      "cell_type": "code",
      "execution_count": 43,
      "metadata": {
        "id": "Z510SnWdQ6nR",
        "outputId": "0990a29a-500f-4c2b-8f1d-b1f0d1a57f1e",
        "colab": {
          "base_uri": "https://localhost:8080/"
        }
      },
      "outputs": [
        {
          "output_type": "stream",
          "name": "stdout",
          "text": [
            "Precisión de entrenamiento: 81.06453 %\n"
          ]
        }
      ],
      "source": [
        "print('Precisión de entrenamiento: {:.5f} %'.format(np.mean(y_umbral_CR == y_testCR) * 100))"
      ]
    },
    {
      "cell_type": "markdown",
      "source": [
        "# Sin regularizacion"
      ],
      "metadata": {
        "id": "T6lrZPGYsN8C"
      }
    },
    {
      "cell_type": "markdown",
      "metadata": {
        "id": "vh61qM0mQ6nS"
      },
      "source": [
        "##Regresion Logistica"
      ]
    },
    {
      "cell_type": "code",
      "execution_count": 47,
      "metadata": {
        "id": "UCsnrxvcQ6nS",
        "outputId": "72c3b216-67bc-4d05-ca96-b4b44ed17914",
        "colab": {
          "base_uri": "https://localhost:8080/"
        }
      },
      "outputs": [
        {
          "output_type": "stream",
          "name": "stdout",
          "text": [
            "  X[:,0] X[:, 1]   X[:, 2]   X[:, 3] X[:, 4] X[:, 5] X[:, 6] X[:, 7]X[:, 8]   X[:, 9]  X[:, 10]         Y\n",
            "--------------------------------------------------------------------------------------------------------------\n",
            "      11       3         2         6      33      69    2542       0       0        15      41           0\n",
            "      12       5         4         4      81     128   12551       0       0         4      33           0\n",
            "       4       3         1         2      56      90    7448       0       0         5      35           0\n",
            "       3       6         4         5       2     129     237       0       0        11      34           0\n",
            "       9       4         2         4      62     150    8345       0       0        19      35           0\n",
            "       5       5         7         2      25     178     454       0       0         5      42           0\n",
            "       4       5         3         2      41      50    5184       0       0        14      42           0\n",
            "      12       6         4         3      30      50    2998       0       0         2      34           1\n",
            "      11       2         2         2      74     149   19506       0       0        29      34           0\n",
            "      12       7         2         7       4     143    1699       0       0        21      34           1\n",
            " \n",
            "El 80% de ejemplos para entrenamiento son la cantidad de: 5191249 de ejemplos\n",
            "El 20% de ejemplos para pruebas son la cantidad de: 1297813 de ejemplos\n"
          ]
        }
      ],
      "source": [
        "\n",
        "X_testSR = X_test.copy()\n",
        "y_testSR = y_test.copy()\n",
        "m_test_SR = len(y_testSR)\n",
        "\n",
        "\n",
        "X_trainSR = X_train.copy()\n",
        "y_trainSR = y_train.copy()\n",
        "m_train_SR = len(y_trainSR)\n",
        "\n",
        "#Imprimimos algunos datos:\n",
        "# imprimir todos las X de datos solo 10\n",
        "print('{:>8s}{:>8s}{:>10s}{:>10s}{:>8s}{:>8s}{:>8s}{:>8s}{:>6s}{:>10s}{:>10s}{:>10s}'.format(\n",
        "    'X[:,0]', 'X[:, 1]', 'X[:, 2]', 'X[:, 3]', 'X[:, 4]', 'X[:, 5]', 'X[:, 6]', 'X[:, 7]', 'X[:, 8]', 'X[:, 9]', 'X[:, 10]', 'Y'\n",
        "))\n",
        "print('-' * 110)\n",
        "\n",
        "for i in range(10):\n",
        "    print('{:8.0f}{:8.0f}{:10.0f}{:10.0f}{:8.0f}{:8.0f}{:8.0f}{:8.0f}{:8.0f}{:10.0f}{:8.0f}{:12.0f}'.format(\n",
        "        X_trainSR[i, 0],\n",
        "        X_trainSR[i, 1],\n",
        "        X_trainSR[i, 2],\n",
        "        X_trainSR[i, 3],\n",
        "        X_trainSR[i, 4],\n",
        "        X_trainSR[i, 5],\n",
        "        X_trainSR[i, 6],\n",
        "        X_trainSR[i, 7],\n",
        "        X_trainSR[i, 8],\n",
        "        X_trainSR[i, 9],\n",
        "        X_trainSR[i, 10],\n",
        "        y_trainSR[i]\n",
        "    ))\n",
        "\n",
        "#mostramos la cantidad de ejemplos\n",
        "print(\" \")\n",
        "print('El 80% de ejemplos para entrenamiento son la cantidad de: {:.0f} de ejemplos'.format( len(train_dataset)))\n",
        "print('El 20% de ejemplos para pruebas son la cantidad de: {:.0f} de ejemplos'.format( len(test_dataset)))\n"
      ]
    },
    {
      "cell_type": "markdown",
      "metadata": {
        "id": "2X3n2Iq9Q6nS"
      },
      "source": [
        "##Normalizacion"
      ]
    },
    {
      "cell_type": "code",
      "execution_count": 48,
      "metadata": {
        "id": "Pn89huLOQ6nS",
        "outputId": "d96fed9d-5156-45bd-fd7a-a777851632a0",
        "colab": {
          "base_uri": "https://localhost:8080/"
        }
      },
      "outputs": [
        {
          "output_type": "stream",
          "name": "stdout",
          "text": [
            "  X[:,0] X[:, 1]   X[:, 2]   X[:, 3] X[:, 4] X[:, 5] X[:, 6] X[:, 7]X[:, 8]   X[:, 9]  X[:, 10]\n",
            "--------------------------------------------------------------------------------------------------------------\n",
            "   1.294  -0.469    -0.765     1.680   0.240  -1.394  -0.216  -1.114  -0.252     0.500   0.740\n",
            "   1.588   0.533     0.075     0.542   2.472  -0.124   2.139   0.008   0.897    -1.086  -0.693\n",
            "  -0.767  -0.469    -1.184    -0.596   1.310  -0.942   0.939  -1.128  -0.980    -0.942  -0.270\n",
            "  -1.062   1.035     0.075     1.111  -1.201  -0.102  -0.758  -1.128  -0.980    -0.077  -0.571\n",
            "   0.705   0.032    -0.765     0.542   1.589   0.350   1.150   0.008   0.897     1.077  -0.270\n",
            "  -0.473   0.533     1.334    -0.596  -0.132   0.953  -0.707  -1.022  -0.235    -0.942   1.028\n",
            "  -0.767   0.533    -0.345    -0.596   0.612  -1.803   0.406   2.902  -0.617     0.356   0.958\n",
            "   1.588   1.035     0.075    -0.027   0.101  -1.803  -0.108  -0.733  -0.786    -1.374  -0.502\n",
            "   1.294  -0.970    -0.765    -0.596   2.147   0.328   3.776   0.539   0.282     2.518  -0.557\n",
            "   1.588   1.536    -0.765     2.249  -1.108   0.199  -0.414  -0.414  -0.789     1.365  -0.456\n"
          ]
        }
      ],
      "source": [
        "X_norm_SR, mu_SR, sigma_SR= featureNormalize(X_trainSR)\n",
        "\n",
        "# imprimir todos las X_norm de datos solo 10\n",
        "print('{:>8s}{:>8s}{:>10s}{:>10s}{:>8s}{:>8s}{:>8s}{:>8s}{:>6s}{:>10s}{:>10s}'.format(\n",
        "    'X[:,0]', 'X[:, 1]', 'X[:, 2]', 'X[:, 3]', 'X[:, 4]', 'X[:, 5]', 'X[:, 6]', 'X[:, 7]', 'X[:, 8]', 'X[:, 9]', 'X[:, 10]'\n",
        "))\n",
        "print('-' * 110)\n",
        "\n",
        "for i in range(10):\n",
        "    print('{:8.3f}{:8.3f}{:10.3f}{:10.3f}{:8.3f}{:8.3f}{:8.3f}{:8.3f}{:8.3f}{:10.3f}{:8.3f}'.format(\n",
        "        X_norm_SR[i, 0],\n",
        "        X_norm_SR[i, 1],\n",
        "        X_norm_SR[i, 2],\n",
        "        X_norm_SR[i, 3],\n",
        "        X_norm_SR[i, 4],\n",
        "        X_norm_SR[i, 5],\n",
        "        X_norm_SR[i, 6],\n",
        "        X_norm_SR[i, 7],\n",
        "        X_norm_SR[i, 8],\n",
        "        X_norm_SR[i, 9],\n",
        "        X_norm_SR[i, 10]\n",
        "    ))"
      ]
    },
    {
      "cell_type": "code",
      "execution_count": 49,
      "metadata": {
        "id": "3YAiH7jUQ6nT",
        "outputId": "de2f48c3-4ec2-488f-de35-a33ae8097f78",
        "colab": {
          "base_uri": "https://localhost:8080/"
        }
      },
      "outputs": [
        {
          "output_type": "stream",
          "name": "stdout",
          "text": [
            "  X[:,0] X[:, 1]   X[:, 2]   X[:, 3] X[:, 4] X[:, 5] X[:, 6] X[:, 7]X[:, 8]   X[:, 9]  X[:, 10]  X[:, 11]\n",
            "----------------------------------------------------------------------------------------------------------------------------------\n",
            "   1.000   1.294    -0.469    -0.765   1.680   0.240  -1.394  -0.216  -1.114    -0.252   0.500   0.740\n",
            "   1.000   1.588     0.533     0.075   0.542   2.472  -0.124   2.139   0.008     0.897  -1.086  -0.693\n",
            "   1.000  -0.767    -0.469    -1.184  -0.596   1.310  -0.942   0.939  -1.128    -0.980  -0.942  -0.270\n",
            "   1.000  -1.062     1.035     0.075   1.111  -1.201  -0.102  -0.758  -1.128    -0.980  -0.077  -0.571\n",
            "   1.000   0.705     0.032    -0.765   0.542   1.589   0.350   1.150   0.008     0.897   1.077  -0.270\n",
            "   1.000  -0.473     0.533     1.334  -0.596  -0.132   0.953  -0.707  -1.022    -0.235  -0.942   1.028\n",
            "   1.000  -0.767     0.533    -0.345  -0.596   0.612  -1.803   0.406   2.902    -0.617   0.356   0.958\n",
            "   1.000   1.588     1.035     0.075  -0.027   0.101  -1.803  -0.108  -0.733    -0.786  -1.374  -0.502\n",
            "   1.000   1.294    -0.970    -0.765  -0.596   2.147   0.328   3.776   0.539     0.282   2.518  -0.557\n",
            "   1.000   1.588     1.536    -0.765   2.249  -1.108   0.199  -0.414  -0.414    -0.789   1.365  -0.456\n"
          ]
        }
      ],
      "source": [
        "X_ready_SR = np.concatenate([np.ones((m_train_SR, 1)), X_norm_SR], axis=1)\n",
        "\n",
        "print('{:>8s}{:>8s}{:>10s}{:>10s}{:>8s}{:>8s}{:>8s}{:>8s}{:>6s}{:>10s}{:>10s}{:>10s}'.format(\n",
        "    'X[:,0]', 'X[:, 1]', 'X[:, 2]', 'X[:, 3]', 'X[:, 4]', 'X[:, 5]', 'X[:, 6]', 'X[:, 7]', 'X[:, 8]', 'X[:, 9]', 'X[:, 10]', 'X[:, 11]'\n",
        "))\n",
        "print('-' * 130)\n",
        "\n",
        "for i in range(10):\n",
        "    print('{:8.3f}{:8.3f}{:10.3f}{:10.3f}{:8.3f}{:8.3f}{:8.3f}{:8.3f}{:8.3f}{:10.3f}{:8.3f}{:8.3f}'.format(\n",
        "        X_ready_SR[i, 0],\n",
        "        X_ready_SR[i, 1],\n",
        "        X_ready_SR[i, 2],\n",
        "        X_ready_SR[i, 3],\n",
        "        X_ready_SR[i, 4],\n",
        "        X_ready_SR[i, 5],\n",
        "        X_ready_SR[i, 6],\n",
        "        X_ready_SR[i, 7],\n",
        "        X_ready_SR[i, 8],\n",
        "        X_ready_SR[i, 9],\n",
        "        X_ready_SR[i, 10],\n",
        "        X_ready_SR[i, 11]\n",
        "    ))\n"
      ]
    },
    {
      "cell_type": "markdown",
      "metadata": {
        "id": "8Vbfk1YJQ6nT"
      },
      "source": [
        "##Descenso por el gradiente\n"
      ]
    },
    {
      "cell_type": "code",
      "execution_count": null,
      "metadata": {
        "id": "aGkABi5NQ6nU"
      },
      "outputs": [],
      "source": [
        "\n",
        "theta_SR = np.zeros(len(X_ready_SR[0]))\n",
        "\n",
        "#numero de iteraciones sera 900 y un alpha 0.009\n",
        "num_ite_SR = 15000\n",
        "alpha_SR = 0.0009\n",
        "\n",
        "theta_SR, J_historico_SR = descensoGradienteSR(theta_SR, X_ready_SR, y_trainSR, alpha_SR, num_ite_SR)\n",
        "\n",
        "print(\"########################################################################################################\")\n",
        "print(\"Los valores de theta calculados son:\")\n",
        "i = 0\n",
        "for tht_SR in theta_SR:\n",
        "    i += 1\n",
        "    print(f\"theta {i}: {tht_SR}\")\n",
        "\n",
        "\n",
        "print(f\"########################################################################################################\")\n",
        "#mostramos el ultimo costo, este seria el mejor costo\n",
        "print(f\"con un costo de: { J_historico_SR[-1]} \")"
      ]
    },
    {
      "cell_type": "markdown",
      "metadata": {
        "id": "t9acpsGUQ6nU"
      },
      "source": [
        "##Grafica de la convergencia"
      ]
    },
    {
      "cell_type": "code",
      "execution_count": null,
      "metadata": {
        "id": "g7sNolFrQ6nU",
        "outputId": "f7139319-1bdd-47dd-c124-4decc80b97ba"
      },
      "outputs": [
        {
          "data": {
            "text/plain": [
              "Text(0, 0.5, 'Costo J')"
            ]
          },
          "execution_count": 60,
          "metadata": {},
          "output_type": "execute_result"
        },
        {
          "data": {
            "image/png": "[encoded data removed]",
            "text/plain": [
              "<Figure size 640x480 with 1 Axes>"
            ]
          },
          "metadata": {},
          "output_type": "display_data"
        }
      ],
      "source": [
        "pyplot.plot(np.arange(len(J_historico_SR)), J_historico_SR, lw=2)\n",
        "pyplot.title(\"Grafica de la convergencia del costo\")\n",
        "pyplot.xlabel('Numero de iteraciones')\n",
        "pyplot.ylabel('Costo J')"
      ]
    },
    {
      "cell_type": "code",
      "execution_count": null,
      "metadata": {
        "id": "oaY-48D_Q6nV",
        "outputId": "755d2b07-b561-4a05-c95d-398b25bdbe52"
      },
      "outputs": [
        {
          "name": "stdout",
          "output_type": "stream",
          "text": [
            "Una persona con las caracteristicas: [1, 58, 1, 159, 53, 110, 70, 1, 1, 0, 0, 1] \n",
            "Tiene una probabilidad de tener diabetes de: 23.457839572489682 %\n",
            "Con valores de theta: [ 0.00410079  0.33329367 -0.01440155 -0.03335109  0.16883752  0.67478395\n",
            "  0.30287489  0.29869993 -0.02134335 -0.04031841 -0.04193559 -0.08690755]\n"
          ]
        }
      ],
      "source": [
        "X_array_SR = [1,58,1,159,53,110,70,1,1,0,0,1]\n",
        "X_array_copy_SR = X_array_SR.copy()\n",
        "#Se normaliza las caracteristicas para la prueba. haciendo el uso de mu y sigma calculados anteriormente, solamente los valores despues del primero, porque este es el 1.\n",
        "X_array_SR[1:] = (X_array_SR[1:] - mu_SR) / sigma_SR\n",
        "\n",
        "resultados_SR = sigmoid(np.dot(X_array_SR, theta_SR))\n",
        "\n",
        "print(f\"Una pasajero con las caracteristicas: {X_array_copy_SR} \")\n",
        "print(f'Tiene una probabilidad de que su vuelo se retrase de: {resultados_SR * 100} %')\n",
        "\n",
        "print(f\"Con valores de theta: { theta_SR }\")"
      ]
    },
    {
      "cell_type": "code",
      "execution_count": null,
      "metadata": {
        "id": "29TOfjXEQ6nV",
        "outputId": "ed1940db-6dff-4c2f-ec89-90ef23082e86"
      },
      "outputs": [
        {
          "name": "stdout",
          "output_type": "stream",
          "text": [
            "+-------+----------+----------+----------+-----------+----------+---------------+-----------+---------+-----------+---------------------+------------------+-------------------------+\n",
            "|   AGE |   GENDER |   HEIGHT |   WEIGHT |   AP_HIGH |   AP_LOW |   CHOLESTEROL |   GLUCOSE |   SMOKE |   ALCOHOL |   PHYSICAL_ACTIVITY |   CARDIO_DISEASE |   CARDIO_DISEASE(Si/No) |\n",
            "+=======+==========+==========+==========+===========+==========+===============+===========+=========+===========+=====================+==================+=========================+\n",
            "|    50 |        2 |      168 |       62 |       110 |       80 |             1 |         1 |       0 |         0 |                   1 |         0.227378 |                       0 |\n",
            "+-------+----------+----------+----------+-----------+----------+---------------+-----------+---------+-----------+---------------------+------------------+-------------------------+\n",
            "|    62 |        1 |      165 |       68 |       150 |       80 |             2 |         1 |       0 |         0 |                   0 |         0.852316 |                       1 |\n",
            "+-------+----------+----------+----------+-----------+----------+---------------+-----------+---------+-----------+---------------------+------------------+-------------------------+\n",
            "|    58 |        1 |      153 |       78 |       140 |       90 |             2 |         1 |       0 |         0 |                   1 |         0.804665 |                       1 |\n",
            "+-------+----------+----------+----------+-----------+----------+---------------+-----------+---------+-----------+---------------------+------------------+-------------------------+\n",
            "|    46 |        1 |      169 |       64 |       120 |       80 |             3 |         1 |       0 |         0 |                   1 |         0.477693 |                       0 |\n",
            "+-------+----------+----------+----------+-----------+----------+---------------+-----------+---------+-----------+---------------------+------------------+-------------------------+\n",
            "|    46 |        1 |      158 |       58 |       110 |       80 |             1 |         1 |       0 |         0 |                   1 |         0.198368 |                       0 |\n",
            "+-------+----------+----------+----------+-----------+----------+---------------+-----------+---------+-----------+---------------------+------------------+-------------------------+\n",
            "|    60 |        2 |      170 |       69 |       120 |       80 |             1 |         1 |       1 |         1 |                   1 |         0.358762 |                       0 |\n",
            "+-------+----------+----------+----------+-----------+----------+---------------+-----------+---------+-----------+---------------------+------------------+-------------------------+\n",
            "|    52 |        2 |      171 |       98 |       110 |       90 |             1 |         1 |       0 |         0 |                   1 |         0.401937 |                       0 |\n",
            "+-------+----------+----------+----------+-----------+----------+---------------+-----------+---------+-----------+---------------------+------------------+-------------------------+\n",
            "|    52 |        1 |      153 |       63 |       110 |       70 |             2 |         1 |       0 |         0 |                   1 |         0.289645 |                       0 |\n",
            "+-------+----------+----------+----------+-----------+----------+---------------+-----------+---------+-----------+---------------------+------------------+-------------------------+\n",
            "|    59 |        2 |      165 |       65 |       120 |       80 |             1 |         1 |       0 |         0 |                   1 |         0.418665 |                       0 |\n",
            "+-------+----------+----------+----------+-----------+----------+---------------+-----------+---------+-----------+---------------------+------------------+-------------------------+\n",
            "|    64 |        1 |      148 |       50 |       120 |       80 |             2 |         1 |       0 |         0 |                   1 |         0.569538 |                       1 |\n",
            "+-------+----------+----------+----------+-----------+----------+---------------+-----------+---------+-----------+---------------------+------------------+-------------------------+\n",
            "|    54 |        2 |      169 |       55 |       120 |       80 |             1 |         1 |       1 |         0 |                   1 |         0.299086 |                       0 |\n",
            "+-------+----------+----------+----------+-----------+----------+---------------+-----------+---------+-----------+---------------------+------------------+-------------------------+\n"
          ]
        }
      ],
      "source": [
        "nombres_columnas = ['AGE','GENDER','HEIGHT','WEIGHT','AP_HIGH','AP_LOW','CHOLESTEROL','GLUCOSE','SMOKE','ALCOHOL','PHYSICAL_ACTIVITY','CARDIO_DISEASE', 'CARDIO_DISEASE(Si/No)']\n",
        "\n",
        "matriz_datos_SR = np.array([\n",
        "[50,2,168,62,110,80,1,1,0,0,1],\n",
        "[62,1,165,68,150,80,2,1,0,0,0],0\n",
        "[58,1,153,78,140,90,2,1,0,0,1],\n",
        "[46,1,169,64,120,80,3,1,0,0,1],\n",
        "[46,1,158,58,110,80,1,1,0,0,1],\n",
        "[60,2,170,69,120,80,1,1,1,1,1],\n",
        "[52,2,171,98,110,90,1,1,0,0,1],\n",
        "[52,1,153,63,110,70,2,1,0,0,1],\n",
        "[59,2,165,65,120,80,1,1,0,0,1],\n",
        "[64,1,148,50,120,80,2,1,0,0,1],\n",
        "[54,2,169,55,120,80,1,1,1,0,1],\n",
        "])\n",
        "\n",
        "para_tabla = matriz_datos_SR.copy()\n",
        "#creamos un vector parta almacenar cada Y predicha\n",
        "y_pre_SR = []\n",
        "\n",
        "matriz_datos_SR = (matriz_datos_SR- mu_SR) / sigma_SR\n",
        "matriz_datos_SR = np.concatenate([np.ones((len(matriz_datos_SR), 1)), matriz_datos_SR], axis=1)\n",
        "\n",
        "# Calculamos la Y predicha de los 11 ejemplos de prediccion\n",
        "# Calculamos la Y predicha de cada fila de la matriz\n",
        "for j in matriz_datos_SR:\n",
        "    y_pre_SR.append(sigmoid(np.dot(j, theta_SR)))\n",
        "\n",
        "# Convertimos la lista a un array unidimensional\n",
        "\n",
        "y_pre_SR = np.array(y_pre_SR)\n",
        "\n",
        "# usamos umbral para definir si tiene o no la enfermedad\n",
        "y_pre_umbral_SR = (y_pre_SR >= 0.5).astype(int)\n",
        "\n",
        "para_tabla = np.column_stack((para_tabla, y_pre_SR))\n",
        "para_tabla = np.column_stack((para_tabla, y_pre_umbral_SR))\n",
        "# Convertir la matriz en una lista de listas\n",
        "datos_para_tabla = para_tabla.tolist()\n",
        "\n",
        "# Imprimir la tabla\n",
        "print(tabulate(datos_para_tabla, headers=nombres_columnas, tablefmt='grid'))"
      ]
    },
    {
      "cell_type": "markdown",
      "metadata": {
        "id": "j_yNr41mQ6nW"
      },
      "source": [
        "##Validaciones"
      ]
    },
    {
      "cell_type": "code",
      "execution_count": null,
      "metadata": {
        "id": "wj00iUgrQ6nW"
      },
      "outputs": [],
      "source": [
        "X_norm_test_SR = (X_testSR- mu_SR) / sigma_SR"
      ]
    },
    {
      "cell_type": "code",
      "execution_count": null,
      "metadata": {
        "id": "jnBr0IGpQ6nW",
        "outputId": "0f04869e-d149-4ee3-d623-8c4bc6759e72"
      },
      "outputs": [
        {
          "name": "stdout",
          "output_type": "stream",
          "text": [
            "  X[:,0] X[:, 1]   X[:, 2]   X[:, 3] X[:, 4] X[:, 5] X[:, 6] X[:, 7]X[:, 8]   X[:, 9]  X[:, 10]  X[:, 11]\n",
            "--------------------------------------------------------------------------------------------------------------\n",
            "   1.000  -0.643    -0.730    -1.024  -0.844  -1.589  -1.183   0.931  -0.396    -0.310  -0.238   0.497\n",
            "   1.000   0.393    -0.730    -0.044   0.274  -0.393  -0.143  -0.538  -0.396    -0.310  -0.238   0.497\n",
            "   1.000   0.541    -0.730    -0.044   0.274  -0.393  -0.143  -0.538  -0.396    -0.310  -0.238   0.497\n",
            "   1.000   0.097    -0.730     0.323   2.160   1.999   1.935  -0.538  -0.396    -0.310  -0.238   0.497\n",
            "   1.000  -0.199    -0.730    -2.982   0.204   0.803   0.896  -0.538  -0.396    -0.310  -0.238   0.497\n",
            "   1.000  -0.495    -0.730     0.445  -0.076   1.401   0.896  -0.538  -0.396    -0.310  -0.238  -2.014\n",
            "   1.000   1.281     1.370    -0.534   0.902  -0.991  -1.183  -0.538  -0.396    -0.310  -0.238   0.497\n",
            "   1.000  -0.643    -0.730    -1.146   1.671  -0.393  -0.143  -0.538  -0.396    -0.310  -0.238   0.497\n",
            "   1.000  -0.199     1.370     0.078  -0.285   0.205  -0.143  -0.538  -0.396     3.226  -0.238   0.497\n",
            "   1.000   0.393     1.370     0.568  -0.425   0.803   0.896   0.931  -0.396    -0.310  -0.238   0.497\n"
          ]
        }
      ],
      "source": [
        "X_test_ready_SR = np.concatenate([np.ones((m_test_SR, 1)), X_norm_test_SR], axis=1)\n",
        "\n",
        "# imprimir todos las X_norm de datos solo 10\n",
        "print('{:>8s}{:>8s}{:>10s}{:>10s}{:>8s}{:>8s}{:>8s}{:>8s}{:>6s}{:>10s}{:>10s}{:>10s}'.format(\n",
        "    'X[:,0]', 'X[:, 1]', 'X[:, 2]', 'X[:, 3]', 'X[:, 4]', 'X[:, 5]', 'X[:, 6]', 'X[:, 7]', 'X[:, 8]', 'X[:, 9]', 'X[:, 10]', 'X[:, 11]'\n",
        "))\n",
        "print('-' * 110)\n",
        "\n",
        "for i in range(10):\n",
        "    print('{:8.3f}{:8.3f}{:10.3f}{:10.3f}{:8.3f}{:8.3f}{:8.3f}{:8.3f}{:8.3f}{:10.3f}{:8.3f}{:8.3f}'.format(\n",
        "    X_test_ready_SR[i, 0],\n",
        "    X_test_ready_SR[i, 1],\n",
        "    X_test_ready_SR[i, 2],\n",
        "    X_test_ready_SR[i, 3],\n",
        "    X_test_ready_SR[i, 4],\n",
        "    X_test_ready_SR[i, 5],\n",
        "    X_test_ready_SR[i, 6],\n",
        "    X_test_ready_SR[i, 7],\n",
        "    X_test_ready_SR[i, 8],\n",
        "    X_test_ready_SR[i, 9],\n",
        "    X_test_ready_SR[i, 10],\n",
        "    X_test_ready_SR[i, 11]\n",
        "    ))"
      ]
    },
    {
      "cell_type": "code",
      "execution_count": null,
      "metadata": {
        "id": "PJ2K6ReQQ6nX",
        "outputId": "a9fee674-47f5-4ed2-b235-9d525ea02490"
      },
      "outputs": [
        {
          "name": "stdout",
          "output_type": "stream",
          "text": [
            "  X[:,0] X[:, 1]   X[:, 2]   X[:, 3] X[:, 4] X[:, 5] X[:, 6] X[:, 7]X[:, 8]   X[:, 9]  X[:, 10]  X[:, 11]         y     (y) usando el umbral\n",
            "--------------------------------------------------------------------------------------------------------------------------------------------\n",
            "   1.000  -0.643    -0.730    -1.024  -0.844  -1.589  -1.183   0.931  -0.396    -0.310  -0.238   0.497           0.20              0\n",
            "   1.000   0.393    -0.730    -0.044   0.274  -0.393  -0.143  -0.538  -0.396    -0.310  -0.238   0.497           0.43              0\n",
            "   1.000   0.541    -0.730    -0.044   0.274  -0.393  -0.143  -0.538  -0.396    -0.310  -0.238   0.497           0.44              0\n",
            "   1.000   0.097    -0.730     0.323   2.160   1.999   1.935  -0.538  -0.396    -0.310  -0.238   0.497           0.88              1\n",
            "   1.000  -0.199    -0.730    -2.982   0.204   0.803   0.896  -0.538  -0.396    -0.310  -0.238   0.497           0.66              1\n",
            "   1.000  -0.495    -0.730     0.445  -0.076   1.401   0.896  -0.538  -0.396    -0.310  -0.238  -2.014           0.73              1\n",
            "   1.000   1.281     1.370    -0.534   0.902  -0.991  -1.183  -0.538  -0.396    -0.310  -0.238   0.497           0.36              0\n",
            "   1.000  -0.643    -0.730    -1.146   1.671  -0.393  -0.143  -0.538  -0.396    -0.310  -0.238   0.497           0.42              0\n",
            "   1.000  -0.199     1.370     0.078  -0.285   0.205  -0.143  -0.538  -0.396     3.226  -0.238   0.497           0.42              0\n",
            "   1.000   0.393     1.370     0.568  -0.425   0.803   0.896   0.931  -0.396    -0.310  -0.238   0.497           0.74              1\n"
          ]
        }
      ],
      "source": [
        "y_predicha_SR =[]\n",
        "# Calculamos la Y predicha de cada fila de la matriz\n",
        "for dato in X_test_ready_SR:\n",
        "    y_predicha_SR.append(sigmoid(np.dot(dato, theta_SR.T)))\n",
        "\n",
        "# Convertimos la lista a un array unidimensional\n",
        "y_predicha_SR = np.array(y_predicha_SR)\n",
        "\n",
        "#usando el umbral donde todo aquello que sea >= 0.5 sera 1, y si es menor sera 0\n",
        "y_umbral_SR = (y_predicha_SR >= 0.5).astype(int)\n",
        "\n",
        "# imprimir todos las X_norm de datos solo 10\n",
        "print('{:>8s}{:>8s}{:>10s}{:>10s}{:>8s}{:>8s}{:>8s}{:>8s}{:>6s}{:>10s}{:>10s}{:>10s}{:>10s}{:>25s}'.format(\n",
        "    'X[:,0]', 'X[:, 1]', 'X[:, 2]', 'X[:, 3]', 'X[:, 4]', 'X[:, 5]', 'X[:, 6]', 'X[:, 7]', 'X[:, 8]', 'X[:, 9]', 'X[:, 10]', 'X[:, 11]','y','(y) usando el umbral'\n",
        "))\n",
        "print('-' * 140)\n",
        "\n",
        "#Mostrando algunos datos\n",
        "for i in range(10):\n",
        "    print('{:8.3f}{:8.3f}{:10.3f}{:10.3f}{:8.3f}{:8.3f}{:8.3f}{:8.3f}{:8.3f}{:10.3f}{:8.3f}{:8.3f}{:15.2f}{:15.0f}'.format(\n",
        "    X_test_ready_SR[i, 0],\n",
        "    X_test_ready_SR[i, 1],\n",
        "    X_test_ready_SR[i, 2],\n",
        "    X_test_ready_SR[i, 3],\n",
        "    X_test_ready_SR[i, 4],\n",
        "    X_test_ready_SR[i, 5],\n",
        "    X_test_ready_SR[i, 6],\n",
        "    X_test_ready_SR[i, 7],\n",
        "    X_test_ready_SR[i, 8],\n",
        "    X_test_ready_SR[i, 9],\n",
        "    X_test_ready_SR[i, 10],\n",
        "    X_test_ready_SR[i, 11],\n",
        "    y_predicha_CR[i],\n",
        "    y_umbral_CR[i]\n",
        "    ))"
      ]
    },
    {
      "cell_type": "markdown",
      "metadata": {
        "id": "HFBYR5YcQ6nX"
      },
      "source": [
        "##precision del entrenamiento:"
      ]
    },
    {
      "cell_type": "code",
      "execution_count": null,
      "metadata": {
        "id": "i2Qk5Fu1Q6nX",
        "outputId": "04f57958-6000-4229-c0c0-773fced61ef7"
      },
      "outputs": [
        {
          "name": "stdout",
          "output_type": "stream",
          "text": [
            "Precisión de entrenamiento: 72.82838 %\n"
          ]
        }
      ],
      "source": [
        "print('Precisión de entrenamiento: {:.5f} %'.format(np.mean(y_umbral_SR == y_testSR) * 100))"
      ]
    }
  ]
}