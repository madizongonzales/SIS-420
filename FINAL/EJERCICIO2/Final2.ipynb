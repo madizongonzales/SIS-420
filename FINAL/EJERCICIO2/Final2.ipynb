{
  "cells": [
    {
      "cell_type": "code",
      "execution_count": null,
      "metadata": {
        "colab": {
          "background_save": true,
          "base_uri": "https://localhost:8080/"
        },
        "id": "HX8a2ZCkUeCD",
        "outputId": "200b5ff4-db8d-43f5-a260-4076bb06fe13"
      },
      "outputs": [
        {
          "name": "stderr",
          "output_type": "stream",
          "text": [
            "<ipython-input-10-93a681baa41a>:55: UserWarning: you are shuffling a 'flatiter' object which is not a subclass of 'Sequence'; `shuffle` is not guaranteed to behave correctly. E.g., non-numpy array/tensor objects with view semantics may contain duplicates after shuffling.\n",
            "  np.random.shuffle(puzzle.flat)\n"
          ]
        }
      ],
      "source": [
        "#Recompensa 1, penalización -0.1\n",
        "import numpy as np\n",
        "import random\n",
        "\n",
        "# Definir el tamaño del rompecabezas\n",
        "num_filas = 4\n",
        "num_columnas = 5\n",
        "\n",
        "# Definir las acciones posibles (mover el espacio vacío: arriba, abajo, izquierda, derecha)\n",
        "acciones = ['arriba', 'abajo', 'izquierda', 'derecha']\n",
        "\n",
        "# Función para mover el espacio vacío en la dirección dada\n",
        "def mover(puzzle, direccion):\n",
        "    new_puzzle = puzzle.copy()\n",
        "    espacio_fila, espacio_columna = np.argwhere(new_puzzle == 0)[0]\n",
        "\n",
        "    if direccion == 'arriba' and espacio_fila > 0:\n",
        "        new_puzzle[espacio_fila, espacio_columna], new_puzzle[espacio_fila - 1, espacio_columna] = new_puzzle[espacio_fila - 1, espacio_columna], new_puzzle[espacio_fila, espacio_columna]\n",
        "    elif direccion == 'abajo' and espacio_fila < num_filas - 1:\n",
        "        new_puzzle[espacio_fila, espacio_columna], new_puzzle[espacio_fila + 1, espacio_columna] = new_puzzle[espacio_fila + 1, espacio_columna], new_puzzle[espacio_fila, espacio_columna]\n",
        "    elif direccion == 'izquierda' and espacio_columna > 0:\n",
        "        new_puzzle[espacio_fila, espacio_columna], new_puzzle[espacio_fila, espacio_columna - 1] = new_puzzle[espacio_fila, espacio_columna - 1], new_puzzle[espacio_fila, espacio_columna]\n",
        "    elif direccion == 'derecha' and espacio_columna < num_columnas - 1:\n",
        "        new_puzzle[espacio_fila, espacio_columna], new_puzzle[espacio_fila, espacio_columna + 1] = new_puzzle[espacio_fila, espacio_columna + 1], new_puzzle[espacio_fila, espacio_columna]\n",
        "\n",
        "    return new_puzzle\n",
        "\n",
        "# Función para determinar si el estado es el objetivo\n",
        "def es_estado_objetivo(puzzle):\n",
        "    objetivo = np.arange(1, num_filas * num_columnas).tolist() + [0]\n",
        "    return np.array_equal(puzzle.flatten(), objetivo)\n",
        "\n",
        "# Inicializar Q-table\n",
        "Q = {}\n",
        "\n",
        "# Hiperparámetros\n",
        "alpha = 0.5 #tasa de aprendizaje, rapidez con la que se actualizan los valor de q en cada iteración\n",
        "gamma = 0.9 #factor de descuento, el agente se enfoca mas en obtener recompensas mas grandes a largo plazo\n",
        "epsilon = 1 #probabilidad de exploración, reduce gradualmente,\n",
        "\n",
        "# Función para elegir una acción usando epsilon-greedy, a veces acción aleatoria para explorar rutas, a veeces la accion con mayor valor\n",
        "def elegir_accion(puzzle):\n",
        "    estado = str(puzzle)\n",
        "    if np.random.uniform(0, 1) < epsilon or estado not in Q:\n",
        "        return random.choice(acciones)\n",
        "    else:\n",
        "        return max(Q[estado], key=Q[estado].get)\n",
        "\n",
        "# Bucle de entrenamiento, hiperparametro\n",
        "num_episodios = 1\n",
        "\n",
        "for episodio in range(num_episodios):\n",
        "    # Inicializar el rompecabezas de manera aleatoria\n",
        "    puzzle = np.arange(num_filas * num_columnas).reshape(num_filas, num_columnas)\n",
        "    np.random.shuffle(puzzle.flat)\n",
        "\n",
        "    while not es_estado_objetivo(puzzle):\n",
        "        estado = str(puzzle)\n",
        "        accion = elegir_accion(puzzle)\n",
        "        nuevo_puzzle = mover(puzzle, accion)\n",
        "        nuevo_estado = str(nuevo_puzzle)\n",
        "        #se actualiza la tabla Q después de cada movimiento del rompecabezas\n",
        "        if nuevo_estado not in Q:\n",
        "            Q[nuevo_estado] = {a: 5.0 for a in acciones}\n",
        "\n",
        "        recompensa = 1.0 if es_estado_objetivo(nuevo_puzzle) else -0.1\n",
        "\n",
        "        if estado not in Q:\n",
        "            Q[estado] = {a: 5.0 for a in acciones}\n",
        "\n",
        "        Q[estado][accion] += alpha * (recompensa + gamma * max(Q[nuevo_estado].values()) - Q[estado][accion])\n",
        "\n",
        "        puzzle = nuevo_puzzle\n",
        "\n",
        "# Función para imprimir la Q-table (truncada para los primeros estados)\n",
        "def imprimir_q_table(Q, num_estados=5):\n",
        "    for i, estado in enumerate(Q.keys()):\n",
        "        if i >= num_estados:\n",
        "            break\n",
        "        print(f\"Estado: {estado}\")\n",
        "        for accion in Q[estado]:\n",
        "            print(f\"  Acción {accion}: {Q[estado][accion]:.2f}\")\n",
        "        print()\n",
        "\n",
        "# Imprimir la Q-table al finalizar el entrenamiento\n",
        "imprimir_q_table(Q)\n"
      ]
    }
  ],
  "metadata": {
    "colab": {
      "provenance": []
    },
    "kernelspec": {
      "display_name": "Python 3",
      "name": "python3"
    },
    "language_info": {
      "name": "python"
    }
  },
  "nbformat": 4,
  "nbformat_minor": 0
}